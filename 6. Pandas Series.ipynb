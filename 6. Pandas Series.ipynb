{
 "cells": [
  {
   "cell_type": "markdown",
   "id": "689e0fee",
   "metadata": {},
   "source": [
    "# Création de Series\n",
    "La méthode de base pour créer une Series est: `>>> s = pd.Series(data, index=index)`\n",
    "\n",
    "Ici, __data__ peut représenter:\n",
    "\n",
    "- un dictionnaire Python\n",
    "\n",
    "- un ndarray\n",
    "\n",
    "- une valeur scalaire\n",
    "\n",
    "L'indice défini en __index__ est une liste d'étiquettes d'axes. Ainsi, ceci se sépare en plusieurs cas selon la nature des données insérées :\n",
    "## À partir d'un ndarray\n",
    "\n",
    "Si __data__ est un ndarray, l'index doit être de la même longueur que data. Si aucun index n'est défini, un index sera créé avec les valeurs `[0, ..., len(data) - 1]`."
   ]
  },
  {
   "cell_type": "code",
   "execution_count": 2,
   "id": "5daaa7eb",
   "metadata": {},
   "outputs": [
    {
     "name": "stdout",
     "output_type": "stream",
     "text": [
      "a    0.088580\n",
      "b    0.228316\n",
      "c   -0.853468\n",
      "d   -0.421447\n",
      "e   -0.193266\n",
      "dtype: float64\n",
      "\n",
      " Index(['a', 'b', 'c', 'd', 'e'], dtype='object')\n"
     ]
    },
    {
     "data": {
      "text/plain": [
       "0   -0.447902\n",
       "1   -1.383383\n",
       "2    0.427796\n",
       "3   -1.206152\n",
       "4    0.280409\n",
       "dtype: float64"
      ]
     },
     "execution_count": 2,
     "metadata": {},
     "output_type": "execute_result"
    }
   ],
   "source": [
    "import pandas as pd\n",
    "import numpy as np\n",
    "s = pd.Series(np.random.randn(5), index=[\"a\", \"b\", \"c\", \"d\", \"e\"])\n",
    "print (s)\n",
    "print ('\\n', s.index)\n",
    "pd.Series(np.random.randn(5))"
   ]
  },
  {
   "cell_type": "markdown",
   "id": "3da25e1d",
   "metadata": {},
   "source": [
    "##  À partir d'un dictionnaire\n",
    "\n",
    "Les séries peuvent être instanciées à partir de **dictionnaires :**"
   ]
  },
  {
   "cell_type": "code",
   "execution_count": 6,
   "id": "5d677bb3",
   "metadata": {
    "scrolled": true
   },
   "outputs": [
    {
     "data": {
      "text/plain": [
       "a    15.0\n",
       "b     3.0\n",
       "c     2.0\n",
       "d     NaN\n",
       "dtype: float64"
      ]
     },
     "execution_count": 6,
     "metadata": {},
     "output_type": "execute_result"
    }
   ],
   "source": [
    "import pandas as pd\n",
    "d = {\"b\": 3, \"a\": 15, \"c\": 2}\n",
    "\n",
    "pd.Series((d), index =['a','b','c','d'])"
   ]
  },
  {
   "cell_type": "markdown",
   "id": "84f01ba9",
   "metadata": {},
   "source": [
    "Si un index est défini, les valeurs des données correspondant aux étiquettes de l'index seront extraites."
   ]
  },
  {
   "cell_type": "code",
   "execution_count": 10,
   "id": "c905e53e",
   "metadata": {
    "scrolled": true
   },
   "outputs": [
    {
     "data": {
      "text/plain": [
       "a    0.0\n",
       "b    1.0\n",
       "c    2.0\n",
       "dtype: float64"
      ]
     },
     "execution_count": 10,
     "metadata": {},
     "output_type": "execute_result"
    }
   ],
   "source": [
    "d = {\"a\": 0.0, \"b\": 1.0, \"c\": 2.0}\n",
    "pd.Series(d)"
   ]
  },
  {
   "cell_type": "markdown",
   "id": "790847ec",
   "metadata": {},
   "source": [
    "**Remarque**\n",
    "\n",
    "NaN (not a number) est le marqueur de données manquantes standard utilisé dans pandas.\n",
    "##  A partir d'une valeur scalaire\n",
    "\n",
    "Si la `data` est une valeur scalaire, un index **doit** être fourni. La valeur sera répétée pour correspondre à la longueur de l'index."
   ]
  },
  {
   "cell_type": "code",
   "execution_count": 11,
   "id": "43a296ed",
   "metadata": {
    "scrolled": true
   },
   "outputs": [
    {
     "name": "stdout",
     "output_type": "stream",
     "text": [
      "0    5.0\n",
      "dtype: float64\n",
      "a    3\n",
      "b    3\n",
      "c    3\n",
      "d    3\n",
      "dtype: int64\n"
     ]
    }
   ],
   "source": [
    "s1=pd.Series(5.0)\n",
    "s2 = pd.Series(3 , index =['a','b','c','d'])\n",
    "print (s1)\n",
    "print(s2)"
   ]
  },
  {
   "cell_type": "markdown",
   "id": "4dc47e1b",
   "metadata": {},
   "source": [
    "# Les attributs des Series\n",
    "- ``index`` \n",
    "- ``name``\n",
    "- ``shape`` \n",
    "- ``size``\n",
    "- ``values``\n",
    " ## Attribut index\n",
    "L'index (étiquettes d'axe) de la série"
   ]
  },
  {
   "cell_type": "code",
   "execution_count": 9,
   "id": "87b60166",
   "metadata": {},
   "outputs": [
    {
     "name": "stdout",
     "output_type": "stream",
     "text": [
      "index par défaut:\n",
      " b     3\n",
      "a    15\n",
      "c     2\n",
      "dtype: int64\n",
      "\n",
      " Définition d'index personalisé:\n",
      " b     3.0\n",
      "c     2.0\n",
      "d     NaN\n",
      "a    15.0\n",
      "dtype: float64\n"
     ]
    }
   ],
   "source": [
    "import pandas as pd\n",
    "import numpy as np\n",
    "print (\"index par défaut:\\n\",pd.Series(d))\n",
    "\n",
    "print (\"\\n Définition d'index personalisé:\\n\",pd.Series(d, index=[\"b\", \"c\", \"d\", \"a\"]))"
   ]
  },
  {
   "cell_type": "markdown",
   "id": "86e76769",
   "metadata": {},
   "source": [
    "## Attribut de nom\n",
    "Les séries ont également un attribut de nom`name`. Le nom de Series peut être attribué automatiquement dans de nombreux cas, notamment lors de la sélection d'une seule colonne dans un DataFrame, le nom sera attribué à l'étiquette de la colonne.\n",
    "\n",
    "Pour renommer une série avec la méthode `Series.rename()`."
   ]
  },
  {
   "cell_type": "code",
   "execution_count": 21,
   "id": "ae7c3f71",
   "metadata": {},
   "outputs": [
    {
     "name": "stdout",
     "output_type": "stream",
     "text": [
      "0    1.559322\n",
      "1    0.372971\n",
      "2    1.413400\n",
      "3    1.033905\n",
      "4   -0.498670\n",
      "Name: something, dtype: float64\n",
      "Nom de la série something\n",
      "Nouveau nom de la série  different\n",
      "Forme de la série  (5,)\n"
     ]
    }
   ],
   "source": [
    "import pandas as pd\n",
    "import numpy as np\n",
    "s = pd.Series(np.random.randn(5), name=\"something\")\n",
    "print (s)\n",
    "print (\"Nom de la série\", s.name)\n",
    "# On renome notre série \n",
    "s2 = s.rename(\"different\")\n",
    "print (\"Nouveau nom de la série \", s2.name)\n",
    "print (\"Forme de la série \", s2.shape)"
   ]
  },
  {
   "cell_type": "markdown",
   "id": "cb95e4a9",
   "metadata": {},
   "source": [
    "Notez que s et s2 font référence à des objets différents.\n",
    "## L'attribut values\n",
    "Retourne les séries sous forme de ndarray ou de ndarray-like en fonction du dtype."
   ]
  },
  {
   "cell_type": "code",
   "execution_count": 26,
   "id": "d3c5eb55",
   "metadata": {},
   "outputs": [
    {
     "data": {
      "text/plain": [
       "array([1, 2, 3], dtype=int64)"
      ]
     },
     "execution_count": 26,
     "metadata": {},
     "output_type": "execute_result"
    }
   ],
   "source": [
    "import pandas as pd\n",
    "pd.Series([1, 2, 3]).values"
   ]
  },
  {
   "cell_type": "markdown",
   "id": "7e2bcc2a",
   "metadata": {},
   "source": [
    "## Les attributs shape et size\n",
    "``shape`` : Retourne un tuple de la forme des données.\n",
    "\n",
    "``size`` : Retourne le nombre d'éléments dans les données."
   ]
  },
  {
   "cell_type": "code",
   "execution_count": 31,
   "id": "03776863",
   "metadata": {},
   "outputs": [
    {
     "data": {
      "text/plain": [
       "3"
      ]
     },
     "execution_count": 31,
     "metadata": {},
     "output_type": "execute_result"
    }
   ],
   "source": [
    "pd.Series([1, 2, 3]).size"
   ]
  },
  {
   "cell_type": "code",
   "execution_count": 32,
   "id": "ea1a244d",
   "metadata": {},
   "outputs": [
    {
     "data": {
      "text/plain": [
       "(4,)"
      ]
     },
     "execution_count": 32,
     "metadata": {},
     "output_type": "execute_result"
    }
   ],
   "source": [
    "pd.Series([1, 2, 3, 4]).shape"
   ]
  },
  {
   "cell_type": "markdown",
   "id": "f42ebdcc",
   "metadata": {},
   "source": [
    "# Opérations mathématiques sur les séries\n",
    "Lorsque vous travaillez avec des tableaux NumPy bruts, il n'est généralement pas nécessaire d'effectuer les opérations valeur par valeur. Il en va de même lorsque vous travaillez avec des séries dans pandas. Les séries peuvent également utiliser la plupart des méthodes NumPy."
   ]
  },
  {
   "cell_type": "code",
   "execution_count": 18,
   "id": "1eeecb11",
   "metadata": {
    "scrolled": false
   },
   "outputs": [
    {
     "name": "stdout",
     "output_type": "stream",
     "text": [
      "a    0.446429\n",
      "b   -1.383216\n",
      "c         NaN\n",
      "d         NaN\n",
      "e         NaN\n",
      "t         NaN\n",
      "w         NaN\n",
      "z         NaN\n",
      "dtype: float64\n",
      "b   -0.207169\n",
      "c    3.558916\n",
      "d   -2.236187\n",
      "a    2.546838\n",
      "e   -0.373526\n",
      "dtype: float64\n",
      "b    0.933274\n",
      "c    3.274959\n",
      "d    0.474546\n",
      "a    2.337182\n",
      "e    0.882931\n",
      "dtype: float64\n"
     ]
    }
   ],
   "source": [
    "import pandas as pd\n",
    "import numpy as np\n",
    "s = pd.Series(np.random.randn(5),index=[\"b\", \"c\", \"d\", \"a\",\"e\"] )\n",
    "s2 = pd.Series(np.random.randn(5) , index=[\"a\", \"b\", \"z\", \"w\",\"t\"])\n",
    "print (s + s2)\n",
    "\n",
    "print (s * 3)\n",
    "\n",
    "print (np.exp(s))"
   ]
  },
  {
   "cell_type": "markdown",
   "id": "d41544b8",
   "metadata": {},
   "source": [
    "# Indexation des Series\n",
    "Une différence essentielle entre Series et ndarray est que les opérations entre Series alignent automatiquement les données en fonction de leur étiquette. Ainsi, vous pouvez écrire des calculs sans vous préoccuper de savoir si les séries concernées ont les mêmes étiquettes."
   ]
  },
  {
   "cell_type": "code",
   "execution_count": 20,
   "id": "80787992",
   "metadata": {
    "scrolled": true
   },
   "outputs": [
    {
     "data": {
      "text/plain": [
       "d   NaN\n",
       "a   NaN\n",
       "e   NaN\n",
       "dtype: float64"
      ]
     },
     "execution_count": 20,
     "metadata": {},
     "output_type": "execute_result"
    }
   ],
   "source": [
    "s[2:] + s1[:-2]"
   ]
  },
  {
   "cell_type": "markdown",
   "id": "3bdd809e",
   "metadata": {},
   "source": [
    "Le résultat d'une opération entre des séries non alignées sera __l'union des index concernés__. Si une étiquette n'est pas trouvée dans une série ou l'autre, le résultat sera marqué comme manquant **`NaN`**. La possibilité d'écrire du code sans faire d'alignement de données explicite offre une liberté et une flexibilité immenses dans l'analyse et la recherche interactives de données. Les fonctions intégrées d'alignement des données des structures de données de pandas distinguent pandas de la majorité des outils connexes pour le travail avec des données étiquetées.\n",
    "\n",
    "**Note**\n",
    "\n",
    "En général, le résultat par défaut des opérations entre des objets indexés différemment donne l'union des index afin d'éviter toute perte d'information. Disposer d'une étiquette d'index, même si les données sont manquantes, est généralement une information importante dans le cadre d'un calcul. Vous avez bien sûr la possibilité d'abandonner les étiquettes avec des données manquantes via la fonction **`dropna`**."
   ]
  }
 ],
 "metadata": {
  "kernelspec": {
   "display_name": "Python 3 (ipykernel)",
   "language": "python",
   "name": "python3"
  },
  "language_info": {
   "codemirror_mode": {
    "name": "ipython",
    "version": 3
   },
   "file_extension": ".py",
   "mimetype": "text/x-python",
   "name": "python",
   "nbconvert_exporter": "python",
   "pygments_lexer": "ipython3",
   "version": "3.9.13"
  }
 },
 "nbformat": 4,
 "nbformat_minor": 5
}
