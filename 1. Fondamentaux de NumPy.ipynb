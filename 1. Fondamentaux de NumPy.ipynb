{
 "cells": [
  {
   "cell_type": "markdown",
   "id": "b3960e25",
   "metadata": {},
   "source": [
    "# Fondamentaux de NumPy"
   ]
  },
  {
   "attachments": {},
   "cell_type": "markdown",
   "id": "8238742d",
   "metadata": {},
   "source": [
    "## Qu'est-ce que NumPy ?\n",
    "\n",
    "NumPy (Numerical Python) est une bibliothèque Python open source qui contient des tableaux multidimensionnels et des structures de données matricielles, et fournit des ndarray, un tableau homogène à n dimensions, avec des méthodes permettant de l'exploiter efficacement. \n",
    "Il existe plusieurs différences importantes entre les tableaux NumPy et les tableaux Python standard :\n",
    "Les tableaux NumPy ont une taille fixe à la création, contrairement aux listes Python (dynamique). Changer la taille d'un tableau NumPy va créer un nouveau tableau et supprimer l'original.\n",
    "Les éléments d'un tableau NumPy doivent tous être du même type de données, et auront donc la même taille en mémoire. \n",
    "Les tableaux NumPy facilitent les opérations mathématiques avancées et d'autres types d'opérations sur de grands nombres de données. En général, ces opérations sont exécutées plus efficacement et avec moins de code que Python."
   ]
  },
  {
   "attachments": {},
   "cell_type": "markdown",
   "id": "a4fb9d65",
   "metadata": {},
   "source": [
    "## Pourquoi utiliser NumPy ?\n",
    "\n",
    "Les tableaux NumPy sont plus rapides et plus compacts que les listes Python. Un tableau consomme moins de mémoire et est pratique à utiliser. NumPy utilise beaucoup moins de mémoire pour stocker les données et il fournit un mécanisme permettant de spécifier les types de données. Cela permet d'optimiser encore plus le code.\n",
    "## Qu'est-ce qu'un tableau NumPy ?\n",
    "Un tableau est une structure de données centrale de la bibliothèque NumPy. Un tableau est une grille de valeurs et il contient des informations sur les données brutes, sur la façon de localiser un élément et sur la façon d'interpréter un élément. Il possède une grille d'éléments qui peuvent être indexés de différentes manières. Les éléments sont tous du même type, appelé le dtype du tableau.\n",
    "Un tableau peut être indexé par un tuple d'entiers non négatifs, par des booléens, par un autre tableau ou par des entiers. Le rang du tableau est le nombre de dimensions. La forme du tableau est un tuple d'entiers donnant la taille du tableau pour chaque dimension."
   ]
  },
  {
   "cell_type": "markdown",
   "id": "eb381c36",
   "metadata": {},
   "source": [
    "## Importation de NumPy"
   ]
  },
  {
   "cell_type": "markdown",
   "id": "20c02c95",
   "metadata": {},
   "source": [
    "NumPy est généralement importé sous l'alias np. alias : En Python, les alias sont un nom alternatif pour se référer à la même chose. Créez un alias avec le mot-clé as lors de l'importation :"
   ]
  },
  {
   "cell_type": "markdown",
   "id": "4a95bedf",
   "metadata": {},
   "source": [
    "Exemple:"
   ]
  },
  {
   "cell_type": "code",
   "execution_count": 2,
   "id": "a2a39e72",
   "metadata": {},
   "outputs": [],
   "source": [
    "import numpy as np"
   ]
  },
  {
   "cell_type": "markdown",
   "id": "114e4ba7",
   "metadata": {},
   "source": [
    "Désormais, le paquet NumPy peut être désigné par np au lieu de numpy."
   ]
  },
  {
   "cell_type": "markdown",
   "id": "31a27f5b",
   "metadata": {},
   "source": [
    "## Création d'un objet NumPy: ndarray"
   ]
  },
  {
   "cell_type": "markdown",
   "id": "1c77aa1b",
   "metadata": {},
   "source": [
    "NumPy est utilisé pour travailler avec des tableaux. L'objet tableau dans NumPy est appelé ndarray. On peut créer un objet NumPy ndarray en utilisant la fonction array()\n",
    "\n",
    "Exemple"
   ]
  },
  {
   "cell_type": "code",
   "execution_count": 3,
   "id": "58acf5a9",
   "metadata": {},
   "outputs": [
    {
     "name": "stdout",
     "output_type": "stream",
     "text": [
      "[1 2 3 4 5]\n",
      "<class 'numpy.ndarray'>\n"
     ]
    }
   ],
   "source": [
    "import numpy as np\n",
    "arr = np.array([1, 2, 3, 4, 5])\n",
    "print(arr)\n",
    "print(type(arr))"
   ]
  },
  {
   "cell_type": "markdown",
   "id": "2baa5187",
   "metadata": {},
   "source": [
    "type(): Cette fonction Python intégrée nous indique le type de l'objet qui lui est passé. Comme dans le code ci-dessus, elle montre que arr est de type numpy.ndarray."
   ]
  },
  {
   "cell_type": "markdown",
   "id": "07a92f31",
   "metadata": {},
   "source": [
    "Pour créer un ndarray, nous pouvons passer une liste, un tuple ou tout autre objet de type tableau dans la méthode array(), et il sera converti en ndarray:"
   ]
  },
  {
   "cell_type": "markdown",
   "id": "0c119821",
   "metadata": {},
   "source": [
    "Exemple : Utiliser un tuple pour créer un tableau NumPy :"
   ]
  },
  {
   "cell_type": "code",
   "execution_count": 4,
   "id": "fd2af02e",
   "metadata": {
    "scrolled": true
   },
   "outputs": [
    {
     "name": "stdout",
     "output_type": "stream",
     "text": [
      "[1 2 3 4 5]\n"
     ]
    }
   ],
   "source": [
    "import numpy as np\n",
    "arr = np.array((1, 2, 3, 4, 5))\n",
    "print(arr)"
   ]
  },
  {
   "cell_type": "markdown",
   "id": "ab0c2fd8",
   "metadata": {},
   "source": [
    "## Dimensions des tableaux"
   ]
  },
  {
   "cell_type": "markdown",
   "id": "8a2d48eb",
   "metadata": {},
   "source": [
    "Une dimension dans les tableaux est un niveau de profondeur de tableau (tableaux imbriqués).\n",
    "\n",
    "Les tableaux imbriqués sont des tableaux dont les éléments sont des tableaux."
   ]
  },
  {
   "cell_type": "markdown",
   "id": "3fad6124",
   "metadata": {},
   "source": [
    "### Tableaux 0-D"
   ]
  },
  {
   "cell_type": "markdown",
   "id": "456e32de",
   "metadata": {},
   "source": [
    "Les tableaux 0-D, ou scalaires, sont les éléments du tableau.\n",
    "\n"
   ]
  },
  {
   "cell_type": "markdown",
   "id": "100c2cdf",
   "metadata": {},
   "source": [
    "Exemple\n",
    "\n",
    "Créer un tableau 0-D avec la valeur 25"
   ]
  },
  {
   "cell_type": "code",
   "execution_count": 2,
   "id": "c7676aac",
   "metadata": {},
   "outputs": [
    {
     "name": "stdout",
     "output_type": "stream",
     "text": [
      "25\n"
     ]
    }
   ],
   "source": [
    "import numpy as np\n",
    "\n",
    "arr = np.array(25)\n",
    "\n",
    "print(arr)"
   ]
  },
  {
   "cell_type": "markdown",
   "id": "091b1892",
   "metadata": {},
   "source": [
    "### Tableaux 1-D"
   ]
  },
  {
   "cell_type": "markdown",
   "id": "03fbc96e",
   "metadata": {},
   "source": [
    "Un tableau dont les éléments sont des tableaux 0-D est appelé tableau unidimensionnel ou 1-D. Il s'agit des tableaux les plus courants et les plus élémentaires.\n",
    "\n",
    "Ce sont les tableaux les plus courants et les plus basiques.\n",
    "\n",
    "Exemple\n",
    "Créez un tableau 1-D contenant les valeurs 1,2,3,4,5 :"
   ]
  },
  {
   "cell_type": "code",
   "execution_count": 3,
   "id": "9c3afc15",
   "metadata": {},
   "outputs": [
    {
     "name": "stdout",
     "output_type": "stream",
     "text": [
      "[1 2 3 4 5]\n"
     ]
    }
   ],
   "source": [
    "import numpy as np\n",
    "\n",
    "arr = np.array([1, 2, 3, 4, 5])\n",
    "\n",
    "print(arr)"
   ]
  },
  {
   "cell_type": "markdown",
   "id": "d3ac616e",
   "metadata": {},
   "source": [
    "### Tableaux 2-D"
   ]
  },
  {
   "cell_type": "markdown",
   "id": "0462dc2c",
   "metadata": {},
   "source": [
    "Un tableau dont les éléments sont des tableaux 1-D s'appelle un tableau 2-D.\n",
    "\n",
    "Ils sont souvent utilisés pour représenter des matrices ou des tenseurs d'ordre 2.\n",
    "\n",
    "NumPy possède un sous-module entier dédié aux opérations matricielles appelé numpy.mat.\n",
    "\n",
    "Exemple\n",
    "Créer un tableau 2-D contenant deux tableaux avec les valeurs 1,2,3 et 4,5,6 :"
   ]
  },
  {
   "cell_type": "code",
   "execution_count": 4,
   "id": "410615a5",
   "metadata": {},
   "outputs": [
    {
     "name": "stdout",
     "output_type": "stream",
     "text": [
      "[[1 2 3]\n",
      " [4 5 6]]\n"
     ]
    }
   ],
   "source": [
    "import numpy as np\n",
    "\n",
    "arr = np.array([[1, 2, 3], [4, 5, 6]])\n",
    "\n",
    "print(arr)"
   ]
  },
  {
   "cell_type": "markdown",
   "id": "d4cdc2bf",
   "metadata": {},
   "source": [
    "### Tableaux 3-D"
   ]
  },
  {
   "cell_type": "markdown",
   "id": "cc0176dd",
   "metadata": {},
   "source": [
    "Un tableau dont les éléments sont des tableaux 2-D (matrices) est appelé tableau 3-D.\n",
    "\n",
    "Ils sont souvent utilisés pour représenter un tenseur d'ordre 3.\n",
    "\n",
    "Exemple\n",
    "Créez un tableau 3-D avec deux tableaux 2-D, contenant chacun deux tableaux avec les valeurs 1,2,3 et 4,5,6 :"
   ]
  },
  {
   "cell_type": "code",
   "execution_count": 10,
   "id": "d0de50ed",
   "metadata": {},
   "outputs": [
    {
     "data": {
      "text/plain": [
       "array([[[1, 2, 3],\n",
       "        [4, 5, 6]],\n",
       "\n",
       "       [[1, 2, 3],\n",
       "        [4, 5, 6]]])"
      ]
     },
     "execution_count": 10,
     "metadata": {},
     "output_type": "execute_result"
    }
   ],
   "source": [
    "import numpy as np\n",
    "\n",
    "arr = np.array([[[1, 2, 3], [4, 5, 6]], [[1, 2, 3], [4, 5, 6]]])\n",
    "arr"
   ]
  },
  {
   "cell_type": "markdown",
   "id": "40acc965",
   "metadata": {},
   "source": [
    "### Vérifiez le nombre de dimensions"
   ]
  },
  {
   "cell_type": "markdown",
   "id": "5c3f6d58",
   "metadata": {},
   "source": [
    "NumPy Arrays fournit l'attribut ndim qui renvoie un entier qui nous indique le nombre de dimensions du tableau.\n",
    "\n",
    "Exemple\n",
    "\n",
    "Vérifiez combien de dimensions ont les tableaux :"
   ]
  },
  {
   "cell_type": "code",
   "execution_count": 11,
   "id": "bb3b1d29",
   "metadata": {},
   "outputs": [
    {
     "name": "stdout",
     "output_type": "stream",
     "text": [
      "0\n",
      "1\n",
      "2\n",
      "3\n"
     ]
    }
   ],
   "source": [
    "import numpy as np\n",
    "\n",
    "a = np.array(42)\n",
    "b = np.array([1, 2, 3, 4, 5])\n",
    "c = np.array([[1, 2, 3], [4, 5, 6]])\n",
    "d = np.array([[[1, 2, 3], [4, 5, 6]], [[1, 2, 3], [4, 5, 6]]])\n",
    "\n",
    "print(a.ndim)\n",
    "print(b.ndim)\n",
    "print(c.ndim)\n",
    "print(d.ndim)"
   ]
  },
  {
   "cell_type": "markdown",
   "id": "412043a7",
   "metadata": {},
   "source": [
    "### Tableaux de dimensions supérieures"
   ]
  },
  {
   "cell_type": "markdown",
   "id": "43629404",
   "metadata": {},
   "source": [
    "Un tableau peut avoir un nombre quelconque de dimensions.\n",
    "\n",
    "Lorsque le tableau est créé, vous pouvez définir le nombre de dimensions en utilisant l'argument ndmin.\n",
    "\n",
    "Exemple\n",
    "\n",
    "Créez un tableau à 5 dimensions et vérifiez qu'il a 5 dimensions :"
   ]
  },
  {
   "cell_type": "code",
   "execution_count": 1,
   "id": "5be65295",
   "metadata": {},
   "outputs": [
    {
     "name": "stdout",
     "output_type": "stream",
     "text": [
      "[[[[[1 2 3 4]]]]]\n",
      "number of dimensions : 5\n"
     ]
    }
   ],
   "source": [
    "import numpy as np\n",
    "\n",
    "arr = np.array([1, 2, 3, 4], ndmin=5)\n",
    "\n",
    "print(arr)\n",
    "print('number of dimensions :', arr.ndim)"
   ]
  },
  {
   "cell_type": "markdown",
   "id": "84c6ec49",
   "metadata": {},
   "source": [
    "# Constructeurs de tableaux Numpy"
   ]
  },
  {
   "cell_type": "markdown",
   "id": "82ccabd7",
   "metadata": {},
   "source": [
    "Il existe plusieurs manières pour créer des tableaux en utilisant numpy, à savoir : \n",
    "- **array** : Crée un tableau.\n",
    "- **eye** : Retourne un tableau 2-D avec des uns sur la diagonale et des zéros ailleurs.\n",
    "- **ones** : Retourne un nouveau tableau rempli de uns.\n",
    "- **zeros** : Renvoie un nouveau tableau rempli de zéros.\n",
    "- **full** : Retourne un nouveau tableau rempli avec la valeur de remplissage passée en paramètre.\n",
    "- **arange(i, j, p)** : permet de créer un array rempli avec une séquence linéaire, qui ira de  i  à  j, par pas de  p\n",
    "- **linspace(i, j, n)** : permet de créer un array de  n  valeurs espacées uniformément entre  i  et  j.\n",
    "- **random.randn(m, n)** : retourne un tableau aléatoire (à distribution normale) aux dimensions m x n\n",
    "- **random.rand(m, n)** : retourne un tableau aléatoire (distribution uniforme)  aux dimensions m x n\n",
    "- **random.randint(i, j, [m, n])** : retourne un tableau d'entiers aléatoires allant de i jusqu'à j et de dimension m x n"
   ]
  },
  {
   "cell_type": "code",
   "execution_count": 9,
   "id": "2342b19b",
   "metadata": {},
   "outputs": [
    {
     "data": {
      "text/plain": [
       "array([[1., 0., 0., 0.],\n",
       "       [0., 1., 0., 0.],\n",
       "       [0., 0., 1., 0.],\n",
       "       [0., 0., 0., 1.]])"
      ]
     },
     "execution_count": 9,
     "metadata": {},
     "output_type": "execute_result"
    }
   ],
   "source": [
    "import numpy as np\n",
    "I = np.eye(4)\n",
    "I"
   ]
  },
  {
   "cell_type": "code",
   "execution_count": 6,
   "id": "507d4332",
   "metadata": {},
   "outputs": [
    {
     "data": {
      "text/plain": [
       "array([[[1., 1., 1., 1., 1.],\n",
       "        [1., 1., 1., 1., 1.],\n",
       "        [1., 1., 1., 1., 1.],\n",
       "        [1., 1., 1., 1., 1.],\n",
       "        [1., 1., 1., 1., 1.],\n",
       "        [1., 1., 1., 1., 1.]],\n",
       "\n",
       "       [[1., 1., 1., 1., 1.],\n",
       "        [1., 1., 1., 1., 1.],\n",
       "        [1., 1., 1., 1., 1.],\n",
       "        [1., 1., 1., 1., 1.],\n",
       "        [1., 1., 1., 1., 1.],\n",
       "        [1., 1., 1., 1., 1.]]])"
      ]
     },
     "execution_count": 6,
     "metadata": {},
     "output_type": "execute_result"
    }
   ],
   "source": [
    "import numpy as np\n",
    "un = np.ones((2, 6, 5))\n",
    "un"
   ]
  },
  {
   "cell_type": "code",
   "execution_count": 14,
   "id": "3f558228",
   "metadata": {},
   "outputs": [
    {
     "data": {
      "text/plain": [
       "array([[0., 0., 0.],\n",
       "       [0., 0., 0.]])"
      ]
     },
     "execution_count": 14,
     "metadata": {},
     "output_type": "execute_result"
    }
   ],
   "source": [
    "import numpy as np\n",
    "zéro = np.zeros((2, 3))\n",
    "zéro"
   ]
  },
  {
   "cell_type": "code",
   "execution_count": 16,
   "id": "65099790",
   "metadata": {},
   "outputs": [
    {
     "data": {
      "text/plain": [
       "array([[5, 5, 5, 5, 5, 5],\n",
       "       [5, 5, 5, 5, 5, 5],\n",
       "       [5, 5, 5, 5, 5, 5],\n",
       "       [5, 5, 5, 5, 5, 5]])"
      ]
     },
     "execution_count": 16,
     "metadata": {},
     "output_type": "execute_result"
    }
   ],
   "source": [
    "import numpy as np\n",
    "p = np.full((4, 6), 5)\n",
    "p"
   ]
  },
  {
   "cell_type": "code",
   "execution_count": 1,
   "id": "6ababa4d",
   "metadata": {
    "scrolled": true
   },
   "outputs": [
    {
     "data": {
      "text/plain": [
       "array([ 0,  5, 10, 15, 20, 25, 30, 35, 40, 45, 50, 55, 60, 65, 70, 75, 80,\n",
       "       85, 90, 95])"
      ]
     },
     "execution_count": 1,
     "metadata": {},
     "output_type": "execute_result"
    }
   ],
   "source": [
    "import numpy as np\n",
    "a = np.arange(0, 100, 5)\n",
    "a"
   ]
  },
  {
   "cell_type": "code",
   "execution_count": 2,
   "id": "1ce134a6",
   "metadata": {},
   "outputs": [
    {
     "data": {
      "text/plain": [
       "array([ 5.        , 11.11111111, 17.22222222, 23.33333333, 29.44444444,\n",
       "       35.55555556, 41.66666667, 47.77777778, 53.88888889, 60.        ])"
      ]
     },
     "execution_count": 2,
     "metadata": {},
     "output_type": "execute_result"
    }
   ],
   "source": [
    "import numpy as np\n",
    "l = np.linspace(5, 60, 10)\n",
    "l"
   ]
  },
  {
   "cell_type": "code",
   "execution_count": 7,
   "id": "bfc82fa3",
   "metadata": {},
   "outputs": [
    {
     "name": "stdout",
     "output_type": "stream",
     "text": [
      "[[-0.65867936  1.48764587  0.86787832]\n",
      " [-1.23584034  0.40425473  0.29465063]]\n",
      "[[0.24761284 0.12951898 0.58308133]\n",
      " [0.40711741 0.92757469 0.4798727 ]]\n",
      "[[[9 3 4 0 4]\n",
      "  [3 0 9 4 6]\n",
      "  [9 3 3 5 2]]\n",
      "\n",
      " [[8 8 5 7 8]\n",
      "  [5 5 4 2 0]\n",
      "  [6 6 0 9 0]]]\n"
     ]
    }
   ],
   "source": [
    "C = np.random.randn(2, 3)\n",
    "D = np.random.rand(2, 3) \n",
    "E = np.random.randint(0, 10, [2, 3, 5])\n",
    "print (C)\n",
    "print (D)\n",
    "print (E)"
   ]
  },
  {
   "cell_type": "markdown",
   "id": "4af7e2c3",
   "metadata": {},
   "source": [
    "# Types de données NumPy"
   ]
  },
  {
   "cell_type": "markdown",
   "id": "d0bac284",
   "metadata": {},
   "source": [
    "## Types de données en Python\n",
    "Par défaut, Python dispose de ces types de données :\n",
    "\n",
    "-  string - utilisé pour représenter des données textuelles, le texte est donné entre guillemets. par exemple, \"ABCD\".\n",
    "-  integer - utilisé pour représenter les nombres entiers. par exemple -1, -2, -3\n",
    "-  float - utilisé pour représenter les nombres réels, par exemple 1,2, 42,42.\n",
    "-  booléen - utilisé pour représenter Vrai ou Faux.\n",
    "-  complexe - utilisé pour représenter les nombres complexes, par exemple 1,0 + 2,0j, 1,5 + 2,5j."
   ]
  },
  {
   "cell_type": "markdown",
   "id": "31ba0ba9",
   "metadata": {},
   "source": [
    "## Types de données dans NumPy\n",
    "L'objet NumPy array possède une propriété appelée dtype qui renvoie le type de données du tableau :\n",
    "#### Exemple\n",
    "Obtenir le type de données d'un tableau :"
   ]
  },
  {
   "cell_type": "code",
   "execution_count": 1,
   "id": "ea881f8a",
   "metadata": {},
   "outputs": [
    {
     "name": "stdout",
     "output_type": "stream",
     "text": [
      "int32\n"
     ]
    }
   ],
   "source": [
    "import numpy as np\n",
    "\n",
    "arr = np.array([1, 2, 3, 4])\n",
    "\n",
    "print(arr.dtype)"
   ]
  },
  {
   "cell_type": "markdown",
   "id": "9000cca7",
   "metadata": {},
   "source": [
    "#### Exemple\n",
    "Obtenir le type de données d'un tableau contenant des chaînes de caractères :"
   ]
  },
  {
   "cell_type": "code",
   "execution_count": 2,
   "id": "708dc070",
   "metadata": {},
   "outputs": [
    {
     "name": "stdout",
     "output_type": "stream",
     "text": [
      "<U6\n"
     ]
    }
   ],
   "source": [
    "import numpy as np\n",
    "\n",
    "arr = np.array(['apple', 'banana', 'cherry'])\n",
    "\n",
    "print(arr.dtype)"
   ]
  },
  {
   "cell_type": "markdown",
   "id": "bf0b884f",
   "metadata": {},
   "source": [
    "## Créer des tableaux avec un type de données défini\n",
    "\n",
    "Nous utilisons la fonction array() pour créer des tableaux, cette fonction peut prendre un argument optionnel : dtype qui nous permet de définir le type de données attendu des éléments du tableau :\n",
    "\n",
    "#### Exemple\n",
    "Créer un tableau avec le type de données string :"
   ]
  },
  {
   "cell_type": "code",
   "execution_count": 3,
   "id": "18fa4e66",
   "metadata": {},
   "outputs": [
    {
     "name": "stdout",
     "output_type": "stream",
     "text": [
      "[b'1' b'2' b'3' b'4']\n",
      "|S1\n"
     ]
    }
   ],
   "source": [
    "import numpy as np\n",
    "\n",
    "arr = np.array([1, 2, 3, 4], dtype='S')\n",
    "\n",
    "print(arr)\n",
    "print(arr.dtype)"
   ]
  },
  {
   "cell_type": "markdown",
   "id": "a0bd1dd5",
   "metadata": {},
   "source": [
    "Pour i, u, f, S et U, nous pouvons également définir la taille.\n",
    "#### Exemple\n",
    "Créer un tableau avec le type de données 4 bytes integer :"
   ]
  },
  {
   "cell_type": "code",
   "execution_count": 4,
   "id": "ea364f82",
   "metadata": {},
   "outputs": [
    {
     "name": "stdout",
     "output_type": "stream",
     "text": [
      "[1 2 3 4]\n",
      "int32\n"
     ]
    }
   ],
   "source": [
    "import numpy as np\n",
    "\n",
    "arr = np.array([1, 2, 3, 4], dtype='i4')\n",
    "\n",
    "print(arr)\n",
    "print(arr.dtype)"
   ]
  },
  {
   "cell_type": "markdown",
   "id": "2df16a8d",
   "metadata": {},
   "source": [
    "## Conversion du type de données sur des tableaux existants\n",
    "La meilleure façon de changer le type de données d'un tableau existant est de faire une copie du tableau avec la méthode astype().\n",
    "\n",
    "La fonction astype() crée une copie du tableau, et vous permet de spécifier le type de données en tant que paramètre.\n",
    "\n",
    "Le type de données peut être spécifié à l'aide d'une chaîne de caractères, comme 'f' pour float, 'i' pour integer etc. ou vous pouvez utiliser le type de données directement comme float pour float et int pour integer.\n",
    "\n",
    "#### Exemple\n",
    "Changez le type de données de float à integer en utilisant 'i' comme valeur de paramètre :"
   ]
  },
  {
   "cell_type": "code",
   "execution_count": 5,
   "id": "03631ebb",
   "metadata": {},
   "outputs": [
    {
     "name": "stdout",
     "output_type": "stream",
     "text": [
      "[1 2 3]\n",
      "int32\n"
     ]
    }
   ],
   "source": [
    "import numpy as np\n",
    "\n",
    "arr = np.array([1.1, 2.1, 3.1])\n",
    "\n",
    "newarr = arr.astype('i')\n",
    "\n",
    "print(newarr)\n",
    "print(newarr.dtype)"
   ]
  },
  {
   "cell_type": "markdown",
   "id": "c5ec0248",
   "metadata": {},
   "source": [
    "#### Exemple\n",
    "Changer le type de données de float à integer en utilisant int comme valeur de paramètre :"
   ]
  },
  {
   "cell_type": "code",
   "execution_count": 7,
   "id": "9c1a08cb",
   "metadata": {},
   "outputs": [
    {
     "name": "stdout",
     "output_type": "stream",
     "text": [
      "[1 2 3]\n",
      "int32\n"
     ]
    }
   ],
   "source": [
    "import numpy as np\n",
    "\n",
    "arr = np.array([1.1, 2.1, 3.1])\n",
    "\n",
    "newarr = arr.astype(int)\n",
    "\n",
    "print(newarr)\n",
    "print(newarr.dtype)"
   ]
  },
  {
   "cell_type": "markdown",
   "id": "19a523cc",
   "metadata": {},
   "source": [
    "#### Exemple\n",
    "Changer le type de données d'un entier à un booléen :"
   ]
  },
  {
   "cell_type": "code",
   "execution_count": 8,
   "id": "8a51d61c",
   "metadata": {},
   "outputs": [
    {
     "name": "stdout",
     "output_type": "stream",
     "text": [
      "[ True False  True]\n",
      "bool\n"
     ]
    }
   ],
   "source": [
    "import numpy as np\n",
    "\n",
    "arr = np.array([1, 0, 3])\n",
    "\n",
    "newarr = arr.astype(bool)\n",
    "\n",
    "print(newarr)\n",
    "print(newarr.dtype)"
   ]
  }
 ],
 "metadata": {
  "kernelspec": {
   "display_name": "Python 3 (ipykernel)",
   "language": "python",
   "name": "python3"
  },
  "language_info": {
   "codemirror_mode": {
    "name": "ipython",
    "version": 3
   },
   "file_extension": ".py",
   "mimetype": "text/x-python",
   "name": "python",
   "nbconvert_exporter": "python",
   "pygments_lexer": "ipython3",
   "version": "3.9.13"
  }
 },
 "nbformat": 4,
 "nbformat_minor": 5
}
