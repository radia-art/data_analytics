{
 "cells": [
  {
   "cell_type": "markdown",
   "id": "c2e83127",
   "metadata": {},
   "source": [
    "# La méthode `apply()`\n",
    "Applique une fonction le long d'un axe du DataFrame.\n",
    "\n",
    "Les objets passés à la fonction sont des objets Series dont l'index est soit les lignes du DataFrame (axis=0) soit les colonnes du DataFrame (axis=1)."
   ]
  },
  {
   "cell_type": "code",
   "execution_count": 1,
   "id": "03456e07",
   "metadata": {},
   "outputs": [],
   "source": [
    "import pandas as pd"
   ]
  },
  {
   "cell_type": "code",
   "execution_count": 2,
   "id": "97c563cd",
   "metadata": {},
   "outputs": [],
   "source": [
    "titanic = pd.read_csv(\"titanic.csv\")\n",
    "titanic[\"age\"] = titanic[\"age\"].replace([\"?\"], [None]).astype(\"float\")\n",
    "titanic[\"fare\"] = titanic[\"fare\"].replace([\"?\"], [None]).astype(\"float\")"
   ]
  },
  {
   "cell_type": "markdown",
   "id": "07bb824e",
   "metadata": {},
   "source": [
    "## Appliquer une fonction à des éléments de DataFrame avec apply()"
   ]
  },
  {
   "cell_type": "code",
   "execution_count": 3,
   "id": "e793fd29",
   "metadata": {},
   "outputs": [
    {
     "data": {
      "text/plain": [
       "0       10585.0000\n",
       "1         334.5955\n",
       "2         730.0000\n",
       "3       10950.0000\n",
       "4        9125.0000\n",
       "           ...    \n",
       "1304     5292.5000\n",
       "1305           NaN\n",
       "1306     9672.5000\n",
       "1307     9855.0000\n",
       "1308    10585.0000\n",
       "Name: age, Length: 1309, dtype: float64"
      ]
     },
     "execution_count": 3,
     "metadata": {},
     "output_type": "execute_result"
    }
   ],
   "source": [
    "def years_to_days(yrs):\n",
    "    return yrs*365\n",
    "\n",
    "titanic[\"age\"].apply(years_to_days)"
   ]
  },
  {
   "cell_type": "code",
   "execution_count": 4,
   "id": "96befa12",
   "metadata": {},
   "outputs": [],
   "source": [
    "def get_age_group(age):\n",
    "    if age < 2:\n",
    "        return \"infant\"\n",
    "    elif age < 12:\n",
    "        return \"child\"\n",
    "    elif age < 18:\n",
    "        return \"teen\"\n",
    "    elif age < 50:\n",
    "        return \"adult\"\n",
    "    else:\n",
    "        return \"senior\""
   ]
  },
  {
   "cell_type": "code",
   "execution_count": 5,
   "id": "0cfe0051",
   "metadata": {},
   "outputs": [
    {
     "data": {
      "text/html": [
       "<div>\n",
       "<style scoped>\n",
       "    .dataframe tbody tr th:only-of-type {\n",
       "        vertical-align: middle;\n",
       "    }\n",
       "\n",
       "    .dataframe tbody tr th {\n",
       "        vertical-align: top;\n",
       "    }\n",
       "\n",
       "    .dataframe thead th {\n",
       "        text-align: right;\n",
       "    }\n",
       "</style>\n",
       "<table border=\"1\" class=\"dataframe\">\n",
       "  <thead>\n",
       "    <tr style=\"text-align: right;\">\n",
       "      <th></th>\n",
       "      <th>pclass</th>\n",
       "      <th>survived</th>\n",
       "      <th>name</th>\n",
       "      <th>sex</th>\n",
       "      <th>age</th>\n",
       "      <th>sibsp</th>\n",
       "      <th>parch</th>\n",
       "      <th>ticket</th>\n",
       "      <th>fare</th>\n",
       "      <th>cabin</th>\n",
       "      <th>embarked</th>\n",
       "      <th>boat</th>\n",
       "      <th>body</th>\n",
       "      <th>home.dest</th>\n",
       "      <th>age_group</th>\n",
       "    </tr>\n",
       "  </thead>\n",
       "  <tbody>\n",
       "    <tr>\n",
       "      <th>0</th>\n",
       "      <td>1</td>\n",
       "      <td>1</td>\n",
       "      <td>Allen, Miss. Elisabeth Walton</td>\n",
       "      <td>female</td>\n",
       "      <td>29.0000</td>\n",
       "      <td>0</td>\n",
       "      <td>0</td>\n",
       "      <td>24160</td>\n",
       "      <td>211.3375</td>\n",
       "      <td>B5</td>\n",
       "      <td>S</td>\n",
       "      <td>2</td>\n",
       "      <td>?</td>\n",
       "      <td>St Louis, MO</td>\n",
       "      <td>adult</td>\n",
       "    </tr>\n",
       "    <tr>\n",
       "      <th>1</th>\n",
       "      <td>1</td>\n",
       "      <td>1</td>\n",
       "      <td>Allison, Master. Hudson Trevor</td>\n",
       "      <td>male</td>\n",
       "      <td>0.9167</td>\n",
       "      <td>1</td>\n",
       "      <td>2</td>\n",
       "      <td>113781</td>\n",
       "      <td>151.5500</td>\n",
       "      <td>C22 C26</td>\n",
       "      <td>S</td>\n",
       "      <td>11</td>\n",
       "      <td>?</td>\n",
       "      <td>Montreal, PQ / Chesterville, ON</td>\n",
       "      <td>infant</td>\n",
       "    </tr>\n",
       "    <tr>\n",
       "      <th>2</th>\n",
       "      <td>1</td>\n",
       "      <td>0</td>\n",
       "      <td>Allison, Miss. Helen Loraine</td>\n",
       "      <td>female</td>\n",
       "      <td>2.0000</td>\n",
       "      <td>1</td>\n",
       "      <td>2</td>\n",
       "      <td>113781</td>\n",
       "      <td>151.5500</td>\n",
       "      <td>C22 C26</td>\n",
       "      <td>S</td>\n",
       "      <td>?</td>\n",
       "      <td>?</td>\n",
       "      <td>Montreal, PQ / Chesterville, ON</td>\n",
       "      <td>child</td>\n",
       "    </tr>\n",
       "    <tr>\n",
       "      <th>3</th>\n",
       "      <td>1</td>\n",
       "      <td>0</td>\n",
       "      <td>Allison, Mr. Hudson Joshua Creighton</td>\n",
       "      <td>male</td>\n",
       "      <td>30.0000</td>\n",
       "      <td>1</td>\n",
       "      <td>2</td>\n",
       "      <td>113781</td>\n",
       "      <td>151.5500</td>\n",
       "      <td>C22 C26</td>\n",
       "      <td>S</td>\n",
       "      <td>?</td>\n",
       "      <td>135</td>\n",
       "      <td>Montreal, PQ / Chesterville, ON</td>\n",
       "      <td>adult</td>\n",
       "    </tr>\n",
       "    <tr>\n",
       "      <th>4</th>\n",
       "      <td>1</td>\n",
       "      <td>0</td>\n",
       "      <td>Allison, Mrs. Hudson J C (Bessie Waldo Daniels)</td>\n",
       "      <td>female</td>\n",
       "      <td>25.0000</td>\n",
       "      <td>1</td>\n",
       "      <td>2</td>\n",
       "      <td>113781</td>\n",
       "      <td>151.5500</td>\n",
       "      <td>C22 C26</td>\n",
       "      <td>S</td>\n",
       "      <td>?</td>\n",
       "      <td>?</td>\n",
       "      <td>Montreal, PQ / Chesterville, ON</td>\n",
       "      <td>adult</td>\n",
       "    </tr>\n",
       "    <tr>\n",
       "      <th>...</th>\n",
       "      <td>...</td>\n",
       "      <td>...</td>\n",
       "      <td>...</td>\n",
       "      <td>...</td>\n",
       "      <td>...</td>\n",
       "      <td>...</td>\n",
       "      <td>...</td>\n",
       "      <td>...</td>\n",
       "      <td>...</td>\n",
       "      <td>...</td>\n",
       "      <td>...</td>\n",
       "      <td>...</td>\n",
       "      <td>...</td>\n",
       "      <td>...</td>\n",
       "      <td>...</td>\n",
       "    </tr>\n",
       "    <tr>\n",
       "      <th>1304</th>\n",
       "      <td>3</td>\n",
       "      <td>0</td>\n",
       "      <td>Zabour, Miss. Hileni</td>\n",
       "      <td>female</td>\n",
       "      <td>14.5000</td>\n",
       "      <td>1</td>\n",
       "      <td>0</td>\n",
       "      <td>2665</td>\n",
       "      <td>14.4542</td>\n",
       "      <td>?</td>\n",
       "      <td>C</td>\n",
       "      <td>?</td>\n",
       "      <td>328</td>\n",
       "      <td>?</td>\n",
       "      <td>teen</td>\n",
       "    </tr>\n",
       "    <tr>\n",
       "      <th>1305</th>\n",
       "      <td>3</td>\n",
       "      <td>0</td>\n",
       "      <td>Zabour, Miss. Thamine</td>\n",
       "      <td>female</td>\n",
       "      <td>NaN</td>\n",
       "      <td>1</td>\n",
       "      <td>0</td>\n",
       "      <td>2665</td>\n",
       "      <td>14.4542</td>\n",
       "      <td>?</td>\n",
       "      <td>C</td>\n",
       "      <td>?</td>\n",
       "      <td>?</td>\n",
       "      <td>?</td>\n",
       "      <td>senior</td>\n",
       "    </tr>\n",
       "    <tr>\n",
       "      <th>1306</th>\n",
       "      <td>3</td>\n",
       "      <td>0</td>\n",
       "      <td>Zakarian, Mr. Mapriededer</td>\n",
       "      <td>male</td>\n",
       "      <td>26.5000</td>\n",
       "      <td>0</td>\n",
       "      <td>0</td>\n",
       "      <td>2656</td>\n",
       "      <td>7.2250</td>\n",
       "      <td>?</td>\n",
       "      <td>C</td>\n",
       "      <td>?</td>\n",
       "      <td>304</td>\n",
       "      <td>?</td>\n",
       "      <td>adult</td>\n",
       "    </tr>\n",
       "    <tr>\n",
       "      <th>1307</th>\n",
       "      <td>3</td>\n",
       "      <td>0</td>\n",
       "      <td>Zakarian, Mr. Ortin</td>\n",
       "      <td>male</td>\n",
       "      <td>27.0000</td>\n",
       "      <td>0</td>\n",
       "      <td>0</td>\n",
       "      <td>2670</td>\n",
       "      <td>7.2250</td>\n",
       "      <td>?</td>\n",
       "      <td>C</td>\n",
       "      <td>?</td>\n",
       "      <td>?</td>\n",
       "      <td>?</td>\n",
       "      <td>adult</td>\n",
       "    </tr>\n",
       "    <tr>\n",
       "      <th>1308</th>\n",
       "      <td>3</td>\n",
       "      <td>0</td>\n",
       "      <td>Zimmerman, Mr. Leo</td>\n",
       "      <td>male</td>\n",
       "      <td>29.0000</td>\n",
       "      <td>0</td>\n",
       "      <td>0</td>\n",
       "      <td>315082</td>\n",
       "      <td>7.8750</td>\n",
       "      <td>?</td>\n",
       "      <td>S</td>\n",
       "      <td>?</td>\n",
       "      <td>?</td>\n",
       "      <td>?</td>\n",
       "      <td>adult</td>\n",
       "    </tr>\n",
       "  </tbody>\n",
       "</table>\n",
       "<p>1309 rows × 15 columns</p>\n",
       "</div>"
      ],
      "text/plain": [
       "      pclass  survived                                             name  \\\n",
       "0          1         1                    Allen, Miss. Elisabeth Walton   \n",
       "1          1         1                   Allison, Master. Hudson Trevor   \n",
       "2          1         0                     Allison, Miss. Helen Loraine   \n",
       "3          1         0             Allison, Mr. Hudson Joshua Creighton   \n",
       "4          1         0  Allison, Mrs. Hudson J C (Bessie Waldo Daniels)   \n",
       "...      ...       ...                                              ...   \n",
       "1304       3         0                             Zabour, Miss. Hileni   \n",
       "1305       3         0                            Zabour, Miss. Thamine   \n",
       "1306       3         0                        Zakarian, Mr. Mapriededer   \n",
       "1307       3         0                              Zakarian, Mr. Ortin   \n",
       "1308       3         0                               Zimmerman, Mr. Leo   \n",
       "\n",
       "         sex      age  sibsp  parch  ticket      fare    cabin embarked boat  \\\n",
       "0     female  29.0000      0      0   24160  211.3375       B5        S    2   \n",
       "1       male   0.9167      1      2  113781  151.5500  C22 C26        S   11   \n",
       "2     female   2.0000      1      2  113781  151.5500  C22 C26        S    ?   \n",
       "3       male  30.0000      1      2  113781  151.5500  C22 C26        S    ?   \n",
       "4     female  25.0000      1      2  113781  151.5500  C22 C26        S    ?   \n",
       "...      ...      ...    ...    ...     ...       ...      ...      ...  ...   \n",
       "1304  female  14.5000      1      0    2665   14.4542        ?        C    ?   \n",
       "1305  female      NaN      1      0    2665   14.4542        ?        C    ?   \n",
       "1306    male  26.5000      0      0    2656    7.2250        ?        C    ?   \n",
       "1307    male  27.0000      0      0    2670    7.2250        ?        C    ?   \n",
       "1308    male  29.0000      0      0  315082    7.8750        ?        S    ?   \n",
       "\n",
       "     body                        home.dest age_group  \n",
       "0       ?                     St Louis, MO     adult  \n",
       "1       ?  Montreal, PQ / Chesterville, ON    infant  \n",
       "2       ?  Montreal, PQ / Chesterville, ON     child  \n",
       "3     135  Montreal, PQ / Chesterville, ON     adult  \n",
       "4       ?  Montreal, PQ / Chesterville, ON     adult  \n",
       "...   ...                              ...       ...  \n",
       "1304  328                                ?      teen  \n",
       "1305    ?                                ?    senior  \n",
       "1306  304                                ?     adult  \n",
       "1307    ?                                ?     adult  \n",
       "1308    ?                                ?     adult  \n",
       "\n",
       "[1309 rows x 15 columns]"
      ]
     },
     "execution_count": 5,
     "metadata": {},
     "output_type": "execute_result"
    }
   ],
   "source": [
    "titanic[\"age_group\"] = titanic[\"age\"].apply(get_age_group)\n",
    "titanic"
   ]
  },
  {
   "cell_type": "code",
   "execution_count": 6,
   "id": "3332744a",
   "metadata": {},
   "outputs": [
    {
     "data": {
      "text/plain": [
       "adult     782\n",
       "senior    373\n",
       "child      69\n",
       "teen       63\n",
       "infant     22\n",
       "Name: age_group, dtype: int64"
      ]
     },
     "execution_count": 6,
     "metadata": {},
     "output_type": "execute_result"
    }
   ],
   "source": [
    "titanic.age_group.value_counts()"
   ]
  },
  {
   "cell_type": "code",
   "execution_count": 7,
   "id": "434ced8e",
   "metadata": {},
   "outputs": [],
   "source": [
    "df = titanic[[\"pclass\", \"survived\", \"age\", \"fare\"]]"
   ]
  },
  {
   "cell_type": "code",
   "execution_count": 8,
   "id": "6584347d",
   "metadata": {},
   "outputs": [],
   "source": [
    "def get_range(s):\n",
    "    return s.max() - s.min()"
   ]
  },
  {
   "cell_type": "code",
   "execution_count": 9,
   "id": "a3bb0a5d",
   "metadata": {},
   "outputs": [
    {
     "data": {
      "text/plain": [
       "pclass        2.0000\n",
       "survived      1.0000\n",
       "age          79.8333\n",
       "fare        512.3292\n",
       "dtype: float64"
      ]
     },
     "execution_count": 9,
     "metadata": {},
     "output_type": "execute_result"
    }
   ],
   "source": [
    "df.apply(get_range)"
   ]
  },
  {
   "cell_type": "markdown",
   "id": "f0ea68ff",
   "metadata": {},
   "source": [
    "## apply() avec lambda"
   ]
  },
  {
   "cell_type": "code",
   "execution_count": 10,
   "id": "21442979",
   "metadata": {},
   "outputs": [
    {
     "data": {
      "text/plain": [
       "0       5072.1000\n",
       "1       3637.2000\n",
       "2       3637.2000\n",
       "3       3637.2000\n",
       "4       3637.2000\n",
       "          ...    \n",
       "1304     346.9008\n",
       "1305     346.9008\n",
       "1306     173.4000\n",
       "1307     173.4000\n",
       "1308     189.0000\n",
       "Name: fare, Length: 1309, dtype: float64"
      ]
     },
     "execution_count": 10,
     "metadata": {},
     "output_type": "execute_result"
    }
   ],
   "source": [
    "titanic[\"fare\"] * 24"
   ]
  },
  {
   "cell_type": "code",
   "execution_count": 11,
   "id": "5f1d9929",
   "metadata": {},
   "outputs": [
    {
     "data": {
      "text/plain": [
       "0                   $5072.1\n",
       "1       $3637.2000000000003\n",
       "2       $3637.2000000000003\n",
       "3       $3637.2000000000003\n",
       "4       $3637.2000000000003\n",
       "               ...         \n",
       "1304              $346.9008\n",
       "1305              $346.9008\n",
       "1306    $173.39999999999998\n",
       "1307    $173.39999999999998\n",
       "1308                 $189.0\n",
       "Name: fare, Length: 1309, dtype: object"
      ]
     },
     "execution_count": 11,
     "metadata": {},
     "output_type": "execute_result"
    }
   ],
   "source": [
    "titanic[\"fare\"].apply(lambda x: f\"${x*24}\")"
   ]
  },
  {
   "cell_type": "markdown",
   "id": "490647b6",
   "metadata": {},
   "source": [
    "## apply() le long d'un axe spécifié"
   ]
  },
  {
   "cell_type": "code",
   "execution_count": 12,
   "id": "89839e20",
   "metadata": {},
   "outputs": [],
   "source": [
    "def get_fam_size(s):\n",
    "    fam_size = s.sibsp + s.parch\n",
    "    if fam_size == 0:\n",
    "        return \"solo\"\n",
    "    elif fam_size < 5:\n",
    "        return \"average\"\n",
    "    else:\n",
    "        return \"large\""
   ]
  },
  {
   "cell_type": "code",
   "execution_count": 32,
   "id": "0b73ab0b",
   "metadata": {},
   "outputs": [
    {
     "data": {
      "text/plain": [
       "0          solo\n",
       "1       average\n",
       "2       average\n",
       "3       average\n",
       "4       average\n",
       "         ...   \n",
       "1304    average\n",
       "1305    average\n",
       "1306       solo\n",
       "1307       solo\n",
       "1308       solo\n",
       "Length: 1309, dtype: object"
      ]
     },
     "execution_count": 32,
     "metadata": {},
     "output_type": "execute_result"
    }
   ],
   "source": [
    "titanic.apply(get_fam_size,axis=1)"
   ]
  },
  {
   "cell_type": "code",
   "execution_count": 14,
   "id": "0f374f41",
   "metadata": {},
   "outputs": [],
   "source": [
    "titanic[\"fam_size\"] = titanic.apply(get_fam_size, axis=1)"
   ]
  },
  {
   "cell_type": "code",
   "execution_count": 15,
   "id": "48558c87",
   "metadata": {
    "scrolled": false
   },
   "outputs": [
    {
     "data": {
      "text/plain": [
       "solo       790\n",
       "average    459\n",
       "large       60\n",
       "Name: fam_size, dtype: int64"
      ]
     },
     "execution_count": 15,
     "metadata": {},
     "output_type": "execute_result"
    }
   ],
   "source": [
    "titanic[\"fam_size\"].value_counts()"
   ]
  },
  {
   "cell_type": "code",
   "execution_count": 16,
   "id": "f54bc976",
   "metadata": {},
   "outputs": [
    {
     "data": {
      "text/plain": [
       "0       210.3375\n",
       "1       150.6333\n",
       "2       151.5500\n",
       "3       151.5500\n",
       "4       151.5500\n",
       "          ...   \n",
       "1304     14.5000\n",
       "1305     14.4542\n",
       "1306     26.5000\n",
       "1307     27.0000\n",
       "1308     29.0000\n",
       "Length: 1309, dtype: float64"
      ]
     },
     "execution_count": 16,
     "metadata": {},
     "output_type": "execute_result"
    }
   ],
   "source": [
    "df.apply(get_range, axis=1)"
   ]
  },
  {
   "cell_type": "code",
   "execution_count": 17,
   "id": "327d4d9b",
   "metadata": {},
   "outputs": [
    {
     "data": {
      "text/plain": [
       "pclass        2.0000\n",
       "survived      1.0000\n",
       "age          79.8333\n",
       "fare        512.3292\n",
       "dtype: float64"
      ]
     },
     "execution_count": 17,
     "metadata": {},
     "output_type": "execute_result"
    }
   ],
   "source": [
    "df.apply(get_range, axis=0)"
   ]
  },
  {
   "cell_type": "markdown",
   "id": "71dff330",
   "metadata": {},
   "source": [
    "## apply() avec des arguments"
   ]
  },
  {
   "cell_type": "code",
   "execution_count": 18,
   "id": "715bb1bc",
   "metadata": {},
   "outputs": [],
   "source": [
    "def convert_currency(num, multiplier):\n",
    "    return f\"${num*multiplier}\""
   ]
  },
  {
   "cell_type": "code",
   "execution_count": 19,
   "id": "c1c95cc5",
   "metadata": {},
   "outputs": [
    {
     "data": {
      "text/plain": [
       "0       $3170.0625\n",
       "1         $2273.25\n",
       "2         $2273.25\n",
       "3         $2273.25\n",
       "4         $2273.25\n",
       "           ...    \n",
       "1304      $216.813\n",
       "1305      $216.813\n",
       "1306      $108.375\n",
       "1307      $108.375\n",
       "1308      $118.125\n",
       "Name: fare, Length: 1309, dtype: object"
      ]
     },
     "execution_count": 19,
     "metadata": {},
     "output_type": "execute_result"
    }
   ],
   "source": [
    "titanic[\"fare\"].apply(convert_currency, args=(15,))"
   ]
  },
  {
   "cell_type": "markdown",
   "id": "db65cd07",
   "metadata": {},
   "source": [
    "## apply() avec arguments positionnels et mots-clés"
   ]
  },
  {
   "cell_type": "code",
   "execution_count": 20,
   "id": "cc771e4e",
   "metadata": {},
   "outputs": [],
   "source": [
    "def convert_currency(num, x, y, multiplier):\n",
    "    return f\"${num*multiplier+x+y}\""
   ]
  },
  {
   "cell_type": "code",
   "execution_count": 21,
   "id": "8b1655b3",
   "metadata": {
    "scrolled": false
   },
   "outputs": [
    {
     "data": {
      "text/plain": [
       "0       $3171.0625\n",
       "1         $2274.25\n",
       "2         $2274.25\n",
       "3         $2274.25\n",
       "4         $2274.25\n",
       "           ...    \n",
       "1304      $217.813\n",
       "1305      $217.813\n",
       "1306      $109.375\n",
       "1307      $109.375\n",
       "1308      $119.125\n",
       "Name: fare, Length: 1309, dtype: object"
      ]
     },
     "execution_count": 21,
     "metadata": {},
     "output_type": "execute_result"
    }
   ],
   "source": [
    "titanic[\"fare\"].apply(convert_currency, args=(1,0), multiplier=15)"
   ]
  },
  {
   "cell_type": "markdown",
   "id": "7e78de61",
   "metadata": {},
   "source": [
    "## apply() avec groupby\n",
    "Applique la fonction func par groupe et combine les résultats ensemble.\n",
    "\n",
    "La fonction définie pour apply doit prendre un dataframe comme premier argument et retourner un DataFrame, une série ou un scalaire. apply se chargera ensuite de combiner les résultats en un seul dataframe ou série. apply est donc une méthode de regroupement très flexible."
   ]
  },
  {
   "cell_type": "code",
   "execution_count": 22,
   "id": "30529d75",
   "metadata": {},
   "outputs": [],
   "source": [
    "def family_size(s):\n",
    "    return s.sibsp + s.parch+1"
   ]
  },
  {
   "cell_type": "code",
   "execution_count": 23,
   "id": "3f439d98",
   "metadata": {
    "scrolled": true
   },
   "outputs": [
    {
     "data": {
      "text/plain": [
       "sex         \n",
       "female  0       1\n",
       "        2       4\n",
       "        4       4\n",
       "        6       2\n",
       "        8       3\n",
       "               ..\n",
       "male    1302    1\n",
       "        1303    1\n",
       "        1306    1\n",
       "        1307    1\n",
       "        1308    1\n",
       "Length: 1309, dtype: int64"
      ]
     },
     "execution_count": 23,
     "metadata": {},
     "output_type": "execute_result"
    }
   ],
   "source": [
    "titanic.groupby(\"sex\").apply(family_size)"
   ]
  },
  {
   "cell_type": "code",
   "execution_count": 24,
   "id": "60ee66cb",
   "metadata": {
    "scrolled": true
   },
   "outputs": [
    {
     "data": {
      "text/plain": [
       "sex     pclass      \n",
       "female  1       0       1\n",
       "                2       4\n",
       "                4       4\n",
       "                6       2\n",
       "                8       3\n",
       "                       ..\n",
       "male    3       1302    1\n",
       "                1303    1\n",
       "                1306    1\n",
       "                1307    1\n",
       "                1308    1\n",
       "Length: 1309, dtype: int64"
      ]
     },
     "execution_count": 24,
     "metadata": {},
     "output_type": "execute_result"
    }
   ],
   "source": [
    "titanic.groupby([\"sex\", \"pclass\"]).apply(family_size)"
   ]
  },
  {
   "cell_type": "markdown",
   "id": "550c2600",
   "metadata": {},
   "source": [
    "# La méthode `map( )` \n",
    "Fait correspondre les valeurs de Series en fonction d'un mappage ou d'une fonction d'entrée.\n",
    "\n",
    "Utilisé pour remplacer chaque valeur d'une série par une autre valeur, qui peut être dérivée d'une fonction, d'un dict ou d'une série."
   ]
  },
  {
   "cell_type": "code",
   "execution_count": 25,
   "id": "d0795ded",
   "metadata": {},
   "outputs": [
    {
     "data": {
      "text/plain": [
       "0       1\n",
       "1       1\n",
       "2       1\n",
       "3       1\n",
       "4       1\n",
       "       ..\n",
       "1304    3\n",
       "1305    3\n",
       "1306    3\n",
       "1307    3\n",
       "1308    3\n",
       "Name: pclass, Length: 1309, dtype: int64"
      ]
     },
     "execution_count": 25,
     "metadata": {},
     "output_type": "execute_result"
    }
   ],
   "source": [
    "titanic[\"pclass\"]"
   ]
  },
  {
   "cell_type": "code",
   "execution_count": 26,
   "id": "6b7301e7",
   "metadata": {},
   "outputs": [
    {
     "data": {
      "text/plain": [
       "0       1st\n",
       "1       1st\n",
       "2       1st\n",
       "3       1st\n",
       "4       1st\n",
       "       ... \n",
       "1304    3rd\n",
       "1305    3rd\n",
       "1306    3rd\n",
       "1307    3rd\n",
       "1308    3rd\n",
       "Name: pclass, Length: 1309, dtype: object"
      ]
     },
     "execution_count": 26,
     "metadata": {},
     "output_type": "execute_result"
    }
   ],
   "source": [
    "titanic[\"pclass\"].map({1:\"1st\", 2:\"2nd\", 3:\"3rd\"})"
   ]
  },
  {
   "cell_type": "code",
   "execution_count": 27,
   "id": "746f1465",
   "metadata": {},
   "outputs": [
    {
     "data": {
      "text/plain": [
       "0       This person is female\n",
       "1         This person is male\n",
       "2       This person is female\n",
       "3         This person is male\n",
       "4       This person is female\n",
       "                ...          \n",
       "1304    This person is female\n",
       "1305    This person is female\n",
       "1306      This person is male\n",
       "1307      This person is male\n",
       "1308      This person is male\n",
       "Name: sex, Length: 1309, dtype: object"
      ]
     },
     "execution_count": 27,
     "metadata": {},
     "output_type": "execute_result"
    }
   ],
   "source": [
    "titanic[\"sex\"].map('This person is {}'.format)"
   ]
  },
  {
   "cell_type": "markdown",
   "id": "ea086b39",
   "metadata": {},
   "source": [
    "## La méthode `applymap( )`\n",
    "Appliquer une fonction à un Dataframe par élément.\n",
    "\n",
    "Cette méthode applique une fonction qui accepte et renvoie un scalaire à chaque élément d'un DataFrame."
   ]
  },
  {
   "cell_type": "code",
   "execution_count": 28,
   "id": "c8d194e1",
   "metadata": {},
   "outputs": [
    {
     "data": {
      "text/html": [
       "<div>\n",
       "<style scoped>\n",
       "    .dataframe tbody tr th:only-of-type {\n",
       "        vertical-align: middle;\n",
       "    }\n",
       "\n",
       "    .dataframe tbody tr th {\n",
       "        vertical-align: top;\n",
       "    }\n",
       "\n",
       "    .dataframe thead th {\n",
       "        text-align: right;\n",
       "    }\n",
       "</style>\n",
       "<table border=\"1\" class=\"dataframe\">\n",
       "  <thead>\n",
       "    <tr style=\"text-align: right;\">\n",
       "      <th></th>\n",
       "      <th>name</th>\n",
       "      <th>sex</th>\n",
       "      <th>age_group</th>\n",
       "    </tr>\n",
       "  </thead>\n",
       "  <tbody>\n",
       "    <tr>\n",
       "      <th>0</th>\n",
       "      <td>ALLEN, MISS. ELISABETH WALTON</td>\n",
       "      <td>FEMALE</td>\n",
       "      <td>ADULT</td>\n",
       "    </tr>\n",
       "    <tr>\n",
       "      <th>1</th>\n",
       "      <td>ALLISON, MASTER. HUDSON TREVOR</td>\n",
       "      <td>MALE</td>\n",
       "      <td>INFANT</td>\n",
       "    </tr>\n",
       "    <tr>\n",
       "      <th>2</th>\n",
       "      <td>ALLISON, MISS. HELEN LORAINE</td>\n",
       "      <td>FEMALE</td>\n",
       "      <td>CHILD</td>\n",
       "    </tr>\n",
       "    <tr>\n",
       "      <th>3</th>\n",
       "      <td>ALLISON, MR. HUDSON JOSHUA CREIGHTON</td>\n",
       "      <td>MALE</td>\n",
       "      <td>ADULT</td>\n",
       "    </tr>\n",
       "    <tr>\n",
       "      <th>4</th>\n",
       "      <td>ALLISON, MRS. HUDSON J C (BESSIE WALDO DANIELS)</td>\n",
       "      <td>FEMALE</td>\n",
       "      <td>ADULT</td>\n",
       "    </tr>\n",
       "    <tr>\n",
       "      <th>...</th>\n",
       "      <td>...</td>\n",
       "      <td>...</td>\n",
       "      <td>...</td>\n",
       "    </tr>\n",
       "    <tr>\n",
       "      <th>1304</th>\n",
       "      <td>ZABOUR, MISS. HILENI</td>\n",
       "      <td>FEMALE</td>\n",
       "      <td>TEEN</td>\n",
       "    </tr>\n",
       "    <tr>\n",
       "      <th>1305</th>\n",
       "      <td>ZABOUR, MISS. THAMINE</td>\n",
       "      <td>FEMALE</td>\n",
       "      <td>SENIOR</td>\n",
       "    </tr>\n",
       "    <tr>\n",
       "      <th>1306</th>\n",
       "      <td>ZAKARIAN, MR. MAPRIEDEDER</td>\n",
       "      <td>MALE</td>\n",
       "      <td>ADULT</td>\n",
       "    </tr>\n",
       "    <tr>\n",
       "      <th>1307</th>\n",
       "      <td>ZAKARIAN, MR. ORTIN</td>\n",
       "      <td>MALE</td>\n",
       "      <td>ADULT</td>\n",
       "    </tr>\n",
       "    <tr>\n",
       "      <th>1308</th>\n",
       "      <td>ZIMMERMAN, MR. LEO</td>\n",
       "      <td>MALE</td>\n",
       "      <td>ADULT</td>\n",
       "    </tr>\n",
       "  </tbody>\n",
       "</table>\n",
       "<p>1309 rows × 3 columns</p>\n",
       "</div>"
      ],
      "text/plain": [
       "                                                 name     sex age_group\n",
       "0                       ALLEN, MISS. ELISABETH WALTON  FEMALE     ADULT\n",
       "1                      ALLISON, MASTER. HUDSON TREVOR    MALE    INFANT\n",
       "2                        ALLISON, MISS. HELEN LORAINE  FEMALE     CHILD\n",
       "3                ALLISON, MR. HUDSON JOSHUA CREIGHTON    MALE     ADULT\n",
       "4     ALLISON, MRS. HUDSON J C (BESSIE WALDO DANIELS)  FEMALE     ADULT\n",
       "...                                               ...     ...       ...\n",
       "1304                             ZABOUR, MISS. HILENI  FEMALE      TEEN\n",
       "1305                            ZABOUR, MISS. THAMINE  FEMALE    SENIOR\n",
       "1306                        ZAKARIAN, MR. MAPRIEDEDER    MALE     ADULT\n",
       "1307                              ZAKARIAN, MR. ORTIN    MALE     ADULT\n",
       "1308                               ZIMMERMAN, MR. LEO    MALE     ADULT\n",
       "\n",
       "[1309 rows x 3 columns]"
      ]
     },
     "execution_count": 28,
     "metadata": {},
     "output_type": "execute_result"
    }
   ],
   "source": [
    "titanic[[\"name\", \"sex\", \"age_group\"]].applymap(str.upper)"
   ]
  },
  {
   "cell_type": "code",
   "execution_count": 29,
   "id": "84c6ad7d",
   "metadata": {},
   "outputs": [
    {
     "data": {
      "text/html": [
       "<div>\n",
       "<style scoped>\n",
       "    .dataframe tbody tr th:only-of-type {\n",
       "        vertical-align: middle;\n",
       "    }\n",
       "\n",
       "    .dataframe tbody tr th {\n",
       "        vertical-align: top;\n",
       "    }\n",
       "\n",
       "    .dataframe thead th {\n",
       "        text-align: right;\n",
       "    }\n",
       "</style>\n",
       "<table border=\"1\" class=\"dataframe\">\n",
       "  <thead>\n",
       "    <tr style=\"text-align: right;\">\n",
       "      <th></th>\n",
       "      <th>name</th>\n",
       "      <th>sex</th>\n",
       "      <th>age_group</th>\n",
       "    </tr>\n",
       "  </thead>\n",
       "  <tbody>\n",
       "    <tr>\n",
       "      <th>0</th>\n",
       "      <td>29</td>\n",
       "      <td>6</td>\n",
       "      <td>5</td>\n",
       "    </tr>\n",
       "    <tr>\n",
       "      <th>1</th>\n",
       "      <td>30</td>\n",
       "      <td>4</td>\n",
       "      <td>6</td>\n",
       "    </tr>\n",
       "    <tr>\n",
       "      <th>2</th>\n",
       "      <td>28</td>\n",
       "      <td>6</td>\n",
       "      <td>5</td>\n",
       "    </tr>\n",
       "    <tr>\n",
       "      <th>3</th>\n",
       "      <td>36</td>\n",
       "      <td>4</td>\n",
       "      <td>5</td>\n",
       "    </tr>\n",
       "    <tr>\n",
       "      <th>4</th>\n",
       "      <td>47</td>\n",
       "      <td>6</td>\n",
       "      <td>5</td>\n",
       "    </tr>\n",
       "    <tr>\n",
       "      <th>...</th>\n",
       "      <td>...</td>\n",
       "      <td>...</td>\n",
       "      <td>...</td>\n",
       "    </tr>\n",
       "    <tr>\n",
       "      <th>1304</th>\n",
       "      <td>20</td>\n",
       "      <td>6</td>\n",
       "      <td>4</td>\n",
       "    </tr>\n",
       "    <tr>\n",
       "      <th>1305</th>\n",
       "      <td>21</td>\n",
       "      <td>6</td>\n",
       "      <td>6</td>\n",
       "    </tr>\n",
       "    <tr>\n",
       "      <th>1306</th>\n",
       "      <td>25</td>\n",
       "      <td>4</td>\n",
       "      <td>5</td>\n",
       "    </tr>\n",
       "    <tr>\n",
       "      <th>1307</th>\n",
       "      <td>19</td>\n",
       "      <td>4</td>\n",
       "      <td>5</td>\n",
       "    </tr>\n",
       "    <tr>\n",
       "      <th>1308</th>\n",
       "      <td>18</td>\n",
       "      <td>4</td>\n",
       "      <td>5</td>\n",
       "    </tr>\n",
       "  </tbody>\n",
       "</table>\n",
       "<p>1309 rows × 3 columns</p>\n",
       "</div>"
      ],
      "text/plain": [
       "      name  sex  age_group\n",
       "0       29    6          5\n",
       "1       30    4          6\n",
       "2       28    6          5\n",
       "3       36    4          5\n",
       "4       47    6          5\n",
       "...    ...  ...        ...\n",
       "1304    20    6          4\n",
       "1305    21    6          6\n",
       "1306    25    4          5\n",
       "1307    19    4          5\n",
       "1308    18    4          5\n",
       "\n",
       "[1309 rows x 3 columns]"
      ]
     },
     "execution_count": 29,
     "metadata": {},
     "output_type": "execute_result"
    }
   ],
   "source": [
    "titanic[[\"name\", \"sex\", \"age_group\"]].applymap(len)"
   ]
  },
  {
   "cell_type": "code",
   "execution_count": 30,
   "id": "ab60babb",
   "metadata": {},
   "outputs": [
    {
     "data": {
      "text/html": [
       "<div>\n",
       "<style scoped>\n",
       "    .dataframe tbody tr th:only-of-type {\n",
       "        vertical-align: middle;\n",
       "    }\n",
       "\n",
       "    .dataframe tbody tr th {\n",
       "        vertical-align: top;\n",
       "    }\n",
       "\n",
       "    .dataframe thead th {\n",
       "        text-align: right;\n",
       "    }\n",
       "</style>\n",
       "<table border=\"1\" class=\"dataframe\">\n",
       "  <thead>\n",
       "    <tr style=\"text-align: right;\">\n",
       "      <th></th>\n",
       "      <th>pclass</th>\n",
       "      <th>survived</th>\n",
       "      <th>name</th>\n",
       "      <th>sex</th>\n",
       "      <th>age</th>\n",
       "      <th>sibsp</th>\n",
       "      <th>parch</th>\n",
       "      <th>ticket</th>\n",
       "      <th>fare</th>\n",
       "      <th>cabin</th>\n",
       "      <th>embarked</th>\n",
       "      <th>boat</th>\n",
       "      <th>body</th>\n",
       "      <th>home.dest</th>\n",
       "      <th>age_group</th>\n",
       "      <th>fam_size</th>\n",
       "    </tr>\n",
       "  </thead>\n",
       "  <tbody>\n",
       "    <tr>\n",
       "      <th>0</th>\n",
       "      <td>1_2022</td>\n",
       "      <td>1_2022</td>\n",
       "      <td>Allen, Miss. Elisabeth Walton_2022</td>\n",
       "      <td>female_2022</td>\n",
       "      <td>29.0_2022</td>\n",
       "      <td>0_2022</td>\n",
       "      <td>0_2022</td>\n",
       "      <td>24160_2022</td>\n",
       "      <td>211.3375_2022</td>\n",
       "      <td>B5_2022</td>\n",
       "      <td>S_2022</td>\n",
       "      <td>2_2022</td>\n",
       "      <td>?_2022</td>\n",
       "      <td>St Louis, MO_2022</td>\n",
       "      <td>adult_2022</td>\n",
       "      <td>solo_2022</td>\n",
       "    </tr>\n",
       "    <tr>\n",
       "      <th>1</th>\n",
       "      <td>1_2022</td>\n",
       "      <td>1_2022</td>\n",
       "      <td>Allison, Master. Hudson Trevor_2022</td>\n",
       "      <td>male_2022</td>\n",
       "      <td>0.9167_2022</td>\n",
       "      <td>1_2022</td>\n",
       "      <td>2_2022</td>\n",
       "      <td>113781_2022</td>\n",
       "      <td>151.55_2022</td>\n",
       "      <td>C22 C26_2022</td>\n",
       "      <td>S_2022</td>\n",
       "      <td>11_2022</td>\n",
       "      <td>?_2022</td>\n",
       "      <td>Montreal, PQ / Chesterville, ON_2022</td>\n",
       "      <td>infant_2022</td>\n",
       "      <td>average_2022</td>\n",
       "    </tr>\n",
       "    <tr>\n",
       "      <th>2</th>\n",
       "      <td>1_2022</td>\n",
       "      <td>0_2022</td>\n",
       "      <td>Allison, Miss. Helen Loraine_2022</td>\n",
       "      <td>female_2022</td>\n",
       "      <td>2.0_2022</td>\n",
       "      <td>1_2022</td>\n",
       "      <td>2_2022</td>\n",
       "      <td>113781_2022</td>\n",
       "      <td>151.55_2022</td>\n",
       "      <td>C22 C26_2022</td>\n",
       "      <td>S_2022</td>\n",
       "      <td>?_2022</td>\n",
       "      <td>?_2022</td>\n",
       "      <td>Montreal, PQ / Chesterville, ON_2022</td>\n",
       "      <td>child_2022</td>\n",
       "      <td>average_2022</td>\n",
       "    </tr>\n",
       "    <tr>\n",
       "      <th>3</th>\n",
       "      <td>1_2022</td>\n",
       "      <td>0_2022</td>\n",
       "      <td>Allison, Mr. Hudson Joshua Creighton_2022</td>\n",
       "      <td>male_2022</td>\n",
       "      <td>30.0_2022</td>\n",
       "      <td>1_2022</td>\n",
       "      <td>2_2022</td>\n",
       "      <td>113781_2022</td>\n",
       "      <td>151.55_2022</td>\n",
       "      <td>C22 C26_2022</td>\n",
       "      <td>S_2022</td>\n",
       "      <td>?_2022</td>\n",
       "      <td>135_2022</td>\n",
       "      <td>Montreal, PQ / Chesterville, ON_2022</td>\n",
       "      <td>adult_2022</td>\n",
       "      <td>average_2022</td>\n",
       "    </tr>\n",
       "    <tr>\n",
       "      <th>4</th>\n",
       "      <td>1_2022</td>\n",
       "      <td>0_2022</td>\n",
       "      <td>Allison, Mrs. Hudson J C (Bessie Waldo Daniels...</td>\n",
       "      <td>female_2022</td>\n",
       "      <td>25.0_2022</td>\n",
       "      <td>1_2022</td>\n",
       "      <td>2_2022</td>\n",
       "      <td>113781_2022</td>\n",
       "      <td>151.55_2022</td>\n",
       "      <td>C22 C26_2022</td>\n",
       "      <td>S_2022</td>\n",
       "      <td>?_2022</td>\n",
       "      <td>?_2022</td>\n",
       "      <td>Montreal, PQ / Chesterville, ON_2022</td>\n",
       "      <td>adult_2022</td>\n",
       "      <td>average_2022</td>\n",
       "    </tr>\n",
       "    <tr>\n",
       "      <th>...</th>\n",
       "      <td>...</td>\n",
       "      <td>...</td>\n",
       "      <td>...</td>\n",
       "      <td>...</td>\n",
       "      <td>...</td>\n",
       "      <td>...</td>\n",
       "      <td>...</td>\n",
       "      <td>...</td>\n",
       "      <td>...</td>\n",
       "      <td>...</td>\n",
       "      <td>...</td>\n",
       "      <td>...</td>\n",
       "      <td>...</td>\n",
       "      <td>...</td>\n",
       "      <td>...</td>\n",
       "      <td>...</td>\n",
       "    </tr>\n",
       "    <tr>\n",
       "      <th>1304</th>\n",
       "      <td>3_2022</td>\n",
       "      <td>0_2022</td>\n",
       "      <td>Zabour, Miss. Hileni_2022</td>\n",
       "      <td>female_2022</td>\n",
       "      <td>14.5_2022</td>\n",
       "      <td>1_2022</td>\n",
       "      <td>0_2022</td>\n",
       "      <td>2665_2022</td>\n",
       "      <td>14.4542_2022</td>\n",
       "      <td>?_2022</td>\n",
       "      <td>C_2022</td>\n",
       "      <td>?_2022</td>\n",
       "      <td>328_2022</td>\n",
       "      <td>?_2022</td>\n",
       "      <td>teen_2022</td>\n",
       "      <td>average_2022</td>\n",
       "    </tr>\n",
       "    <tr>\n",
       "      <th>1305</th>\n",
       "      <td>3_2022</td>\n",
       "      <td>0_2022</td>\n",
       "      <td>Zabour, Miss. Thamine_2022</td>\n",
       "      <td>female_2022</td>\n",
       "      <td>nan_2022</td>\n",
       "      <td>1_2022</td>\n",
       "      <td>0_2022</td>\n",
       "      <td>2665_2022</td>\n",
       "      <td>14.4542_2022</td>\n",
       "      <td>?_2022</td>\n",
       "      <td>C_2022</td>\n",
       "      <td>?_2022</td>\n",
       "      <td>?_2022</td>\n",
       "      <td>?_2022</td>\n",
       "      <td>senior_2022</td>\n",
       "      <td>average_2022</td>\n",
       "    </tr>\n",
       "    <tr>\n",
       "      <th>1306</th>\n",
       "      <td>3_2022</td>\n",
       "      <td>0_2022</td>\n",
       "      <td>Zakarian, Mr. Mapriededer_2022</td>\n",
       "      <td>male_2022</td>\n",
       "      <td>26.5_2022</td>\n",
       "      <td>0_2022</td>\n",
       "      <td>0_2022</td>\n",
       "      <td>2656_2022</td>\n",
       "      <td>7.225_2022</td>\n",
       "      <td>?_2022</td>\n",
       "      <td>C_2022</td>\n",
       "      <td>?_2022</td>\n",
       "      <td>304_2022</td>\n",
       "      <td>?_2022</td>\n",
       "      <td>adult_2022</td>\n",
       "      <td>solo_2022</td>\n",
       "    </tr>\n",
       "    <tr>\n",
       "      <th>1307</th>\n",
       "      <td>3_2022</td>\n",
       "      <td>0_2022</td>\n",
       "      <td>Zakarian, Mr. Ortin_2022</td>\n",
       "      <td>male_2022</td>\n",
       "      <td>27.0_2022</td>\n",
       "      <td>0_2022</td>\n",
       "      <td>0_2022</td>\n",
       "      <td>2670_2022</td>\n",
       "      <td>7.225_2022</td>\n",
       "      <td>?_2022</td>\n",
       "      <td>C_2022</td>\n",
       "      <td>?_2022</td>\n",
       "      <td>?_2022</td>\n",
       "      <td>?_2022</td>\n",
       "      <td>adult_2022</td>\n",
       "      <td>solo_2022</td>\n",
       "    </tr>\n",
       "    <tr>\n",
       "      <th>1308</th>\n",
       "      <td>3_2022</td>\n",
       "      <td>0_2022</td>\n",
       "      <td>Zimmerman, Mr. Leo_2022</td>\n",
       "      <td>male_2022</td>\n",
       "      <td>29.0_2022</td>\n",
       "      <td>0_2022</td>\n",
       "      <td>0_2022</td>\n",
       "      <td>315082_2022</td>\n",
       "      <td>7.875_2022</td>\n",
       "      <td>?_2022</td>\n",
       "      <td>S_2022</td>\n",
       "      <td>?_2022</td>\n",
       "      <td>?_2022</td>\n",
       "      <td>?_2022</td>\n",
       "      <td>adult_2022</td>\n",
       "      <td>solo_2022</td>\n",
       "    </tr>\n",
       "  </tbody>\n",
       "</table>\n",
       "<p>1309 rows × 16 columns</p>\n",
       "</div>"
      ],
      "text/plain": [
       "      pclass survived                                               name  \\\n",
       "0     1_2022   1_2022                 Allen, Miss. Elisabeth Walton_2022   \n",
       "1     1_2022   1_2022                Allison, Master. Hudson Trevor_2022   \n",
       "2     1_2022   0_2022                  Allison, Miss. Helen Loraine_2022   \n",
       "3     1_2022   0_2022          Allison, Mr. Hudson Joshua Creighton_2022   \n",
       "4     1_2022   0_2022  Allison, Mrs. Hudson J C (Bessie Waldo Daniels...   \n",
       "...      ...      ...                                                ...   \n",
       "1304  3_2022   0_2022                          Zabour, Miss. Hileni_2022   \n",
       "1305  3_2022   0_2022                         Zabour, Miss. Thamine_2022   \n",
       "1306  3_2022   0_2022                     Zakarian, Mr. Mapriededer_2022   \n",
       "1307  3_2022   0_2022                           Zakarian, Mr. Ortin_2022   \n",
       "1308  3_2022   0_2022                            Zimmerman, Mr. Leo_2022   \n",
       "\n",
       "              sex          age   sibsp   parch       ticket           fare  \\\n",
       "0     female_2022    29.0_2022  0_2022  0_2022   24160_2022  211.3375_2022   \n",
       "1       male_2022  0.9167_2022  1_2022  2_2022  113781_2022    151.55_2022   \n",
       "2     female_2022     2.0_2022  1_2022  2_2022  113781_2022    151.55_2022   \n",
       "3       male_2022    30.0_2022  1_2022  2_2022  113781_2022    151.55_2022   \n",
       "4     female_2022    25.0_2022  1_2022  2_2022  113781_2022    151.55_2022   \n",
       "...           ...          ...     ...     ...          ...            ...   \n",
       "1304  female_2022    14.5_2022  1_2022  0_2022    2665_2022   14.4542_2022   \n",
       "1305  female_2022     nan_2022  1_2022  0_2022    2665_2022   14.4542_2022   \n",
       "1306    male_2022    26.5_2022  0_2022  0_2022    2656_2022     7.225_2022   \n",
       "1307    male_2022    27.0_2022  0_2022  0_2022    2670_2022     7.225_2022   \n",
       "1308    male_2022    29.0_2022  0_2022  0_2022  315082_2022     7.875_2022   \n",
       "\n",
       "             cabin embarked     boat      body  \\\n",
       "0          B5_2022   S_2022   2_2022    ?_2022   \n",
       "1     C22 C26_2022   S_2022  11_2022    ?_2022   \n",
       "2     C22 C26_2022   S_2022   ?_2022    ?_2022   \n",
       "3     C22 C26_2022   S_2022   ?_2022  135_2022   \n",
       "4     C22 C26_2022   S_2022   ?_2022    ?_2022   \n",
       "...            ...      ...      ...       ...   \n",
       "1304        ?_2022   C_2022   ?_2022  328_2022   \n",
       "1305        ?_2022   C_2022   ?_2022    ?_2022   \n",
       "1306        ?_2022   C_2022   ?_2022  304_2022   \n",
       "1307        ?_2022   C_2022   ?_2022    ?_2022   \n",
       "1308        ?_2022   S_2022   ?_2022    ?_2022   \n",
       "\n",
       "                                 home.dest    age_group      fam_size  \n",
       "0                        St Louis, MO_2022   adult_2022     solo_2022  \n",
       "1     Montreal, PQ / Chesterville, ON_2022  infant_2022  average_2022  \n",
       "2     Montreal, PQ / Chesterville, ON_2022   child_2022  average_2022  \n",
       "3     Montreal, PQ / Chesterville, ON_2022   adult_2022  average_2022  \n",
       "4     Montreal, PQ / Chesterville, ON_2022   adult_2022  average_2022  \n",
       "...                                    ...          ...           ...  \n",
       "1304                                ?_2022    teen_2022  average_2022  \n",
       "1305                                ?_2022  senior_2022  average_2022  \n",
       "1306                                ?_2022   adult_2022     solo_2022  \n",
       "1307                                ?_2022   adult_2022     solo_2022  \n",
       "1308                                ?_2022   adult_2022     solo_2022  \n",
       "\n",
       "[1309 rows x 16 columns]"
      ]
     },
     "execution_count": 30,
     "metadata": {},
     "output_type": "execute_result"
    }
   ],
   "source": [
    "def add_year(text):\n",
    "    return str(text) + '_2022'\n",
    "\n",
    "titanic.applymap(add_year)"
   ]
  },
  {
   "cell_type": "code",
   "execution_count": null,
   "id": "ebc8d174",
   "metadata": {},
   "outputs": [],
   "source": []
  }
 ],
 "metadata": {
  "kernelspec": {
   "display_name": "Python 3 (ipykernel)",
   "language": "python",
   "name": "python3"
  },
  "language_info": {
   "codemirror_mode": {
    "name": "ipython",
    "version": 3
   },
   "file_extension": ".py",
   "mimetype": "text/x-python",
   "name": "python",
   "nbconvert_exporter": "python",
   "pygments_lexer": "ipython3",
   "version": "3.9.13"
  }
 },
 "nbformat": 4,
 "nbformat_minor": 5
}
