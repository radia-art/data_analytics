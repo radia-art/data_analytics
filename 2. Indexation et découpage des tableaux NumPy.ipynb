{
 "cells": [
  {
   "cell_type": "markdown",
   "id": "1a29f69d",
   "metadata": {},
   "source": [
    "# Indexation des tableaux NumPy"
   ]
  },
  {
   "cell_type": "markdown",
   "id": "55e5a934",
   "metadata": {},
   "source": [
    "## Accès aux éléments d'un tableau "
   ]
  },
  {
   "cell_type": "markdown",
   "id": "991d655a",
   "metadata": {},
   "source": [
    "L'indexation d'un tableau est la même chose que l'accès à un élément du tableau.\n",
    "\n",
    "Vous pouvez accéder à un élément d'un tableau en vous référant à son numéro d'index.\n",
    "\n",
    "Les indices dans les tableaux NumPy commencent par 0, ce qui signifie que le premier élément a l'indice 0, et le second l'indice 1, etc.\n",
    "\n",
    "#### Exemple\n",
    "Obtenez le premier élément du tableau suivant :"
   ]
  },
  {
   "cell_type": "code",
   "execution_count": 1,
   "id": "83393f94",
   "metadata": {},
   "outputs": [
    {
     "name": "stdout",
     "output_type": "stream",
     "text": [
      "1\n"
     ]
    }
   ],
   "source": [
    "import numpy as np\n",
    "\n",
    "arr = np.array([1, 2, 3, 4])\n",
    "\n",
    "print(arr[0])"
   ]
  },
  {
   "cell_type": "markdown",
   "id": "6720e3a1",
   "metadata": {},
   "source": [
    "#### Exemple\n",
    "Obtenez les troisième et quatrième éléments du tableau suivant et ajoutez-les."
   ]
  },
  {
   "cell_type": "code",
   "execution_count": 2,
   "id": "d05a1f08",
   "metadata": {},
   "outputs": [
    {
     "name": "stdout",
     "output_type": "stream",
     "text": [
      "7\n"
     ]
    }
   ],
   "source": [
    "import numpy as np\n",
    "\n",
    "arr = np.array([1, 2, 3, 4])\n",
    "\n",
    "print(arr[2] + arr[3])"
   ]
  },
  {
   "cell_type": "markdown",
   "id": "695a704a",
   "metadata": {},
   "source": [
    "## Accès aux éléments des tableaux 2-D"
   ]
  },
  {
   "cell_type": "markdown",
   "id": "40d0e2f7",
   "metadata": {},
   "source": [
    "Pour accéder aux éléments des tableaux 2-D, nous pouvons utiliser des entiers séparés par des virgules représentant la dimension et l'index de l'élément.\n",
    "\n",
    "Pensez aux tableaux 2-D comme à un tableau avec des lignes et des colonnes, où la ligne représente la dimension et l'index la colonne.\n",
    "\n",
    "#### Exemple\n",
    "Accédez à l'élément de la première ligne, deuxième colonne :"
   ]
  },
  {
   "cell_type": "code",
   "execution_count": 3,
   "id": "80b51115",
   "metadata": {},
   "outputs": [
    {
     "name": "stdout",
     "output_type": "stream",
     "text": [
      "2nd element on 1st row:  2\n"
     ]
    }
   ],
   "source": [
    "import numpy as np\n",
    "\n",
    "arr = np.array([[1,2,3,4,5], [6,7,8,9,10]])\n",
    "\n",
    "print('2nd element on 1st row: ', arr[0, 1])"
   ]
  },
  {
   "cell_type": "markdown",
   "id": "6c1a0024",
   "metadata": {},
   "source": [
    "## Access 3-D Arrays"
   ]
  },
  {
   "cell_type": "markdown",
   "id": "587ed803",
   "metadata": {},
   "source": [
    "Pour accéder aux éléments des tableaux 3-D, nous pouvons utiliser des entiers séparés par des virgules représentant les dimensions et l'index de l'élément.\n",
    "\n",
    "#### Exemple\n",
    "Accédez au troisième élément du deuxième tableau du premier tableau :"
   ]
  },
  {
   "cell_type": "code",
   "execution_count": 4,
   "id": "f9ddd176",
   "metadata": {},
   "outputs": [
    {
     "name": "stdout",
     "output_type": "stream",
     "text": [
      "6\n"
     ]
    }
   ],
   "source": [
    "import numpy as np\n",
    "\n",
    "arr = np.array([[[1, 2, 3], [4, 5, 6]], [[7, 8, 9], [10, 11, 12]]])\n",
    "\n",
    "print(arr[0, 1, 2])"
   ]
  },
  {
   "cell_type": "markdown",
   "id": "cf0f22b3",
   "metadata": {},
   "source": [
    "## Indexation négative"
   ]
  },
  {
   "cell_type": "markdown",
   "id": "443de72d",
   "metadata": {},
   "source": [
    "Utilisez l'indexation négative pour accéder à un tableau depuis la fin.\n",
    "\n",
    "#### Exemple\n",
    "\n",
    "Imprimer le dernier élément de ce tableau 2D :"
   ]
  },
  {
   "cell_type": "code",
   "execution_count": 5,
   "id": "72c9d914",
   "metadata": {},
   "outputs": [
    {
     "name": "stdout",
     "output_type": "stream",
     "text": [
      "le dernier élément de ce tableau 2D est :  10\n"
     ]
    }
   ],
   "source": [
    "import numpy as np\n",
    "\n",
    "arr = np.array([[1,2,3,4,5], [6,7,8,9,10]])\n",
    "\n",
    "print('le dernier élément de ce tableau 2D est : ', arr[-1, -1])"
   ]
  },
  {
   "cell_type": "markdown",
   "id": "62a0781c",
   "metadata": {},
   "source": [
    "# Découpage de tableaux NumPy"
   ]
  },
  {
   "cell_type": "markdown",
   "id": "d524e97e",
   "metadata": {},
   "source": [
    "## Découpage d'un tableau 1D"
   ]
  },
  {
   "cell_type": "markdown",
   "id": "71faf51b",
   "metadata": {},
   "source": [
    "Le découpage en tranches en python signifie prendre des éléments d'un indice donné à un autre indice donné.\n",
    "\n",
    "On définit slice au lieu d'index comme ceci : [début : fin].\n",
    "\n",
    "Nous pouvons également définir le pas, comme ceci : [début : fin : étape].\n",
    "\n",
    "Si nous ne définissons pas le début, il est considéré comme 0.\n",
    "\n",
    "Si nous ne définissons pas la fin, elle est considérée comme la longueur du tableau dans cette dimension.\n",
    "\n",
    "Si nous ne définissons pas le pas, il est considéré comme égal à 1."
   ]
  },
  {
   "cell_type": "markdown",
   "id": "02da52e2",
   "metadata": {},
   "source": [
    "#### Exemple\n",
    "Découpez les éléments de l'indice 1 à l'indice 5 du tableau suivant :"
   ]
  },
  {
   "cell_type": "code",
   "execution_count": 6,
   "id": "53a7d1b5",
   "metadata": {},
   "outputs": [
    {
     "name": "stdout",
     "output_type": "stream",
     "text": [
      "[2 3 4 5]\n"
     ]
    }
   ],
   "source": [
    "import numpy as np\n",
    "\n",
    "arr = np.array([1, 2, 3, 4, 5, 6, 7])\n",
    "\n",
    "print(arr[1:5])"
   ]
  },
  {
   "cell_type": "markdown",
   "id": "1d7e37a4",
   "metadata": {},
   "source": [
    "#### Exemple\n",
    "Découpez les éléments de l'index 4 à la fin du tableau :"
   ]
  },
  {
   "cell_type": "code",
   "execution_count": 7,
   "id": "8dd6511d",
   "metadata": {},
   "outputs": [
    {
     "name": "stdout",
     "output_type": "stream",
     "text": [
      "[5 6 7]\n"
     ]
    }
   ],
   "source": [
    "import numpy as np\n",
    "\n",
    "arr = np.array([1, 2, 3, 4, 5, 6, 7])\n",
    "\n",
    "print(arr[4:])"
   ]
  },
  {
   "cell_type": "markdown",
   "id": "fc590c8f",
   "metadata": {},
   "source": [
    "#### Exemple\n",
    "Couper les éléments du début à l'indice 4 (non inclus) :"
   ]
  },
  {
   "cell_type": "code",
   "execution_count": 8,
   "id": "93a67827",
   "metadata": {},
   "outputs": [
    {
     "name": "stdout",
     "output_type": "stream",
     "text": [
      "[1 2 3 4]\n"
     ]
    }
   ],
   "source": [
    "import numpy as np\n",
    "\n",
    "arr = np.array([1, 2, 3, 4, 5, 6, 7])\n",
    "\n",
    "print(arr[:4])"
   ]
  },
  {
   "cell_type": "markdown",
   "id": "adcc8751",
   "metadata": {},
   "source": [
    "### Découpage négatif\n",
    "Utilisez l'opérateur moins pour faire référence à un indice à partir de la fin :\n",
    "\n",
    "#### Exemple\n",
    "Trancher de l'indice 3 de la fin à l'indice 1 de la fin :"
   ]
  },
  {
   "cell_type": "code",
   "execution_count": 9,
   "id": "edd308e4",
   "metadata": {},
   "outputs": [
    {
     "name": "stdout",
     "output_type": "stream",
     "text": [
      "[5 6]\n"
     ]
    }
   ],
   "source": [
    "import numpy as np\n",
    "\n",
    "arr = np.array([1, 2, 3, 4, 5, 6, 7])\n",
    "\n",
    "print(arr[-3:-1])"
   ]
  },
  {
   "cell_type": "markdown",
   "id": "1c513392",
   "metadata": {},
   "source": [
    "### l'ÉTAPE\n",
    "Utilisez la valeur de l'étape pour déterminer l'étape du découpage :\n",
    "\n",
    "#### Exemple\n",
    "Retourner un élément sur deux de l'indice 1 à l'indice 5 :"
   ]
  },
  {
   "cell_type": "code",
   "execution_count": 10,
   "id": "950b78fb",
   "metadata": {},
   "outputs": [
    {
     "name": "stdout",
     "output_type": "stream",
     "text": [
      "[2 4]\n"
     ]
    }
   ],
   "source": [
    "import numpy as np\n",
    "\n",
    "arr = np.array([1, 2, 3, 4, 5, 6, 7])\n",
    "\n",
    "print(arr[1:5:2])"
   ]
  },
  {
   "cell_type": "markdown",
   "id": "e25bd6c9",
   "metadata": {},
   "source": [
    "#### Exemple\n",
    "Retourner un élément sur deux du tableau entier :"
   ]
  },
  {
   "cell_type": "code",
   "execution_count": 11,
   "id": "680d2580",
   "metadata": {},
   "outputs": [
    {
     "name": "stdout",
     "output_type": "stream",
     "text": [
      "[1 3 5 7]\n"
     ]
    }
   ],
   "source": [
    "import numpy as np\n",
    "\n",
    "arr = np.array([1, 2, 3, 4, 5, 6, 7])\n",
    "\n",
    "print(arr[::2])"
   ]
  },
  {
   "cell_type": "markdown",
   "id": "a9bc8b2b",
   "metadata": {},
   "source": [
    "## Découpage de tableaux 2-D\n",
    "#### Exemple\n",
    "À partir du deuxième élément(càd l'indice 1), découpez les éléments de l'indice 1 à l'indice 4 (non inclus) :"
   ]
  },
  {
   "cell_type": "code",
   "execution_count": 12,
   "id": "fc68140c",
   "metadata": {},
   "outputs": [
    {
     "name": "stdout",
     "output_type": "stream",
     "text": [
      "[7 8 9]\n"
     ]
    }
   ],
   "source": [
    "import numpy as np\n",
    "\n",
    "arr = np.array([[1, 2, 3, 4, 5], [6, 7, 8, 9, 10]])\n",
    "\n",
    "print(arr[1, 1:4])"
   ]
  },
  {
   "cell_type": "markdown",
   "id": "1850ca16",
   "metadata": {},
   "source": [
    "#### Exemple\n",
    "A partir des deux éléments, retourner l'indice 2 :"
   ]
  },
  {
   "cell_type": "code",
   "execution_count": 13,
   "id": "35a972ae",
   "metadata": {},
   "outputs": [
    {
     "name": "stdout",
     "output_type": "stream",
     "text": [
      "[3 8]\n"
     ]
    }
   ],
   "source": [
    "import numpy as np\n",
    "arr = np.array([[1, 2, 3, 4, 5], [6, 7, 8, 9, 10]])\n",
    "print (arr[:, 2])"
   ]
  },
  {
   "cell_type": "markdown",
   "id": "be62f2a6",
   "metadata": {},
   "source": [
    "#### Exemple\n",
    "A partir des deux éléments, de l'indice de tranche 1 à l'indice 4 (non inclus), ceci retournera un tableau 2-D :"
   ]
  },
  {
   "cell_type": "code",
   "execution_count": 14,
   "id": "a70279a3",
   "metadata": {
    "scrolled": true
   },
   "outputs": [
    {
     "name": "stdout",
     "output_type": "stream",
     "text": [
      "[[2 3 4]\n",
      " [7 8 9]]\n"
     ]
    }
   ],
   "source": [
    "import numpy as np\n",
    "arr =np.array([[1, 2, 3, 4, 5], [6, 7, 8, 9, 10]])\n",
    "print(arr[:, 1:4])"
   ]
  },
  {
   "cell_type": "markdown",
   "id": "01e7198a",
   "metadata": {},
   "source": [
    "#### Exemple :\n",
    "Remplir le tableau suivant de \"1\" (une ligne sur deux, une colonne sur deux)"
   ]
  },
  {
   "cell_type": "code",
   "execution_count": 15,
   "id": "a69fa85c",
   "metadata": {},
   "outputs": [
    {
     "data": {
      "text/plain": [
       "array([[0., 0., 0., 0., 0.],\n",
       "       [0., 0., 0., 0., 0.],\n",
       "       [0., 0., 0., 0., 0.],\n",
       "       [0., 0., 0., 0., 0.],\n",
       "       [0., 0., 0., 0., 0.]])"
      ]
     },
     "execution_count": 15,
     "metadata": {},
     "output_type": "execute_result"
    }
   ],
   "source": [
    "C = np.zeros((5, 5))\n",
    "C"
   ]
  },
  {
   "cell_type": "code",
   "execution_count": 20,
   "id": "aa7a4720",
   "metadata": {},
   "outputs": [
    {
     "data": {
      "text/plain": [
       "array([[1., 0., 1., 0., 1.],\n",
       "       [0., 0., 0., 0., 0.],\n",
       "       [1., 0., 1., 0., 1.],\n",
       "       [0., 0., 0., 0., 0.],\n",
       "       [1., 0., 1., 0., 1.]])"
      ]
     },
     "execution_count": 20,
     "metadata": {},
     "output_type": "execute_result"
    }
   ],
   "source": [
    "C = np.zeros((5, 5))\n",
    "C [::2, ::2]=1\n",
    "C"
   ]
  },
  {
   "cell_type": "code",
   "execution_count": null,
   "id": "a8c25ea9",
   "metadata": {},
   "outputs": [],
   "source": []
  },
  {
   "cell_type": "code",
   "execution_count": null,
   "id": "177da8e9",
   "metadata": {},
   "outputs": [],
   "source": []
  }
 ],
 "metadata": {
  "kernelspec": {
   "display_name": "Python 3 (ipykernel)",
   "language": "python",
   "name": "python3"
  },
  "language_info": {
   "codemirror_mode": {
    "name": "ipython",
    "version": 3
   },
   "file_extension": ".py",
   "mimetype": "text/x-python",
   "name": "python",
   "nbconvert_exporter": "python",
   "pygments_lexer": "ipython3",
   "version": "3.9.13"
  }
 },
 "nbformat": 4,
 "nbformat_minor": 5
}
