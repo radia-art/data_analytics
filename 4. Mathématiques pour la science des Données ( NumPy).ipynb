{
 "cells": [
  {
   "cell_type": "markdown",
   "id": "acdfe266",
   "metadata": {},
   "source": [
    "# Mathématique avec les tableaux NumPy"
   ]
  },
  {
   "cell_type": "markdown",
   "id": "35ff3a13",
   "metadata": {},
   "source": [
    "## Opérations arithmétiques de base sur les tableaux NumPy"
   ]
  },
  {
   "cell_type": "code",
   "execution_count": 1,
   "id": "92a4811c",
   "metadata": {},
   "outputs": [
    {
     "name": "stdout",
     "output_type": "stream",
     "text": [
      "Soustraire : [-4 -3 -2 -1  0]\n",
      "Multiplier : [ 5 10 15 20 25]\n",
      "Diviser : [0.2 0.4 0.6 0.8 1. ]\n",
      "Puissance : [ 1  4  9 16 25]\n",
      "Reste : [1 2 3 4 0]\n"
     ]
    }
   ],
   "source": [
    "import numpy as np\n",
    "a = np.arange(1,6)\n",
    "print('Soustraire :',a-5)\n",
    "print('Multiplier :',a*5)\n",
    "print('Diviser :',a/5)\n",
    "print('Puissance :',a**2)\n",
    "print('Reste :',a%5)"
   ]
  },
  {
   "cell_type": "markdown",
   "id": "b0edfca6",
   "metadata": {},
   "source": [
    "## Fonctions statistiques"
   ]
  },
  {
   "cell_type": "code",
   "execution_count": 5,
   "id": "9cb9b0c7",
   "metadata": {},
   "outputs": [
    {
     "name": "stdout",
     "output_type": "stream",
     "text": [
      "Somme de tout les éléments du tableau = 21\n",
      "La somme des colonnes = [5 7 9]\n",
      "La somme des lignes = [ 6 15]\n",
      "La somme cumulée = [[1 2 3]\n",
      " [5 7 9]]\n"
     ]
    }
   ],
   "source": [
    "A = np.array([[1, 2, 3], [4, 5, 6]])\n",
    "\n",
    "print('Somme de tout les éléments du tableau =' , A.sum()) # effectue la somme de tous les éléments du tableau\n",
    "print('La somme des colonnes =' , A.sum(axis=0)) # effectue la somme des colonnes (somme sur éléments des les lignes)\n",
    "print('La somme des lignes =', A.sum(axis=1)) # effectue la somme des lignes (somme sur les éléments des colonnes)\n",
    "print('La somme cumulée =', A.cumsum(axis=0)) # effectue la somme cumulée"
   ]
  },
  {
   "cell_type": "code",
   "execution_count": 8,
   "id": "2b97084a",
   "metadata": {},
   "outputs": [
    {
     "name": "stdout",
     "output_type": "stream",
     "text": [
      "le produit des 2 vecteurs est =  720\n",
      "le produit accumulé = [  1   2   6  24 120 720]\n"
     ]
    }
   ],
   "source": [
    "A = np.array([[1, 2, 3], [4, 5, 6]])\n",
    "print('le produit des 2 vecteurs est = ', A.prod()) # effectue le produit\n",
    "print('le produit accumulé =' , A.cumprod()) # effectue le produit cumulé"
   ]
  },
  {
   "cell_type": "code",
   "execution_count": 9,
   "id": "20e7cfbf",
   "metadata": {
    "scrolled": true
   },
   "outputs": [
    {
     "name": "stdout",
     "output_type": "stream",
     "text": [
      "la plus petite valeur du tableau = 1\n",
      "la plus grande valeur du tableau = 6\n",
      "La moyenne =  3.5\n",
      "l'écart type = 1.707825127659933\n",
      "la variance du tableau = 2.9166666666666665\n"
     ]
    }
   ],
   "source": [
    "A = np.array([[1, 2, 3], [4, 5, 6]])\n",
    "print('la plus petite valeur du tableau =', A.min()) # trouve le minimum du tableau\n",
    "print('la plus grande valeur du tableau =' , A.max()) # trouve le maximum du tableau\n",
    " \n",
    "print('La moyenne = ' , A.mean()) # calcule la moyenne\n",
    "print(\"l'écart type =\" ,  A.std()) # calcule l'ecart type,\n",
    "print('la variance du tableau =' , A.var()) # calcule la variance"
   ]
  },
  {
   "cell_type": "markdown",
   "id": "0001c9e7",
   "metadata": {},
   "source": [
    "On peut obtenir facilement l’index de la valeur minimale ou maximale dans le tableau le long d’un axe particulier à l’aide des méthodes argmin() et argmax():"
   ]
  },
  {
   "cell_type": "code",
   "execution_count": 10,
   "id": "908bb00f",
   "metadata": {},
   "outputs": [
    {
     "name": "stdout",
     "output_type": "stream",
     "text": [
      "Min : [0 1 0]\n",
      "Max : [1 2]\n"
     ]
    }
   ],
   "source": [
    "a = np.array([[1,6,5],\n",
    "[4,3,7]])\n",
    "# minimum le long d'une colonne\n",
    "print('Min :',np.argmin(a,axis=0))\n",
    "# maximum le long d'une ligne\n",
    "print('Max :',np.argmax(a,axis=1))"
   ]
  },
  {
   "cell_type": "markdown",
   "id": "22928a50",
   "metadata": {},
   "source": [
    "## Algèbre linéaire"
   ]
  },
  {
   "cell_type": "markdown",
   "id": "9a7d98bd",
   "metadata": {},
   "source": [
    "**numpy.dot(a, b, out=None)**\n",
    "renvoie le produit des deux tableaux points par points"
   ]
  },
  {
   "cell_type": "code",
   "execution_count": 12,
   "id": "4384873e",
   "metadata": {
    "scrolled": true
   },
   "outputs": [
    {
     "data": {
      "text/plain": [
       "12"
      ]
     },
     "execution_count": 12,
     "metadata": {},
     "output_type": "execute_result"
    }
   ],
   "source": [
    "np.dot(3, 4)"
   ]
  },
  {
   "cell_type": "code",
   "execution_count": 13,
   "id": "92c64ff1",
   "metadata": {},
   "outputs": [
    {
     "data": {
      "text/plain": [
       "6"
      ]
     },
     "execution_count": 13,
     "metadata": {},
     "output_type": "execute_result"
    }
   ],
   "source": [
    "a = [1, 0, 1]\n",
    "b = [4, 2, 2]\n",
    "np.dot(a, b)"
   ]
  },
  {
   "cell_type": "code",
   "execution_count": 6,
   "id": "69bd34ea",
   "metadata": {},
   "outputs": [
    {
     "data": {
      "text/plain": [
       "array([[ 4,  1],\n",
       "       [10,  7]])"
      ]
     },
     "execution_count": 6,
     "metadata": {},
     "output_type": "execute_result"
    }
   ],
   "source": [
    "a = [[1, 0], [2, 1]]\n",
    "b = [[4, 1], [2, 5]]\n",
    "np.dot(a, b)"
   ]
  },
  {
   "cell_type": "markdown",
   "id": "e830ff9d",
   "metadata": {},
   "source": [
    "##### **numpy.matmul** retourne le produit matriciel de deux tableaux."
   ]
  },
  {
   "cell_type": "code",
   "execution_count": 27,
   "id": "15a849f4",
   "metadata": {},
   "outputs": [
    {
     "data": {
      "text/plain": [
       "array([7, 6])"
      ]
     },
     "execution_count": 27,
     "metadata": {},
     "output_type": "execute_result"
    }
   ],
   "source": [
    "a = np.array([[1, 3],\n",
    "              [4, 1]])\n",
    "b = np.array([1, 2])\n",
    "np.matmul(a, b)"
   ]
  },
  {
   "cell_type": "markdown",
   "id": "761d684b",
   "metadata": {},
   "source": [
    "## Fonctions logiques\n",
    "\n",
    "**all**\n",
    "\n",
    "Teste si tous les éléments du tableau le long d'un axe donné valent True.\n",
    "\n",
    "**any**\n",
    "\n",
    "Teste si un élément du tableau le long d'un axe donné vaut True."
   ]
  },
  {
   "cell_type": "code",
   "execution_count": 28,
   "id": "9b7c061d",
   "metadata": {},
   "outputs": [
    {
     "data": {
      "text/plain": [
       "array([ True, False])"
      ]
     },
     "execution_count": 28,
     "metadata": {},
     "output_type": "execute_result"
    }
   ],
   "source": [
    "np.all([[True,False],[True,True]], axis=0)"
   ]
  },
  {
   "cell_type": "code",
   "execution_count": 29,
   "id": "ac2bf055",
   "metadata": {},
   "outputs": [
    {
     "data": {
      "text/plain": [
       "array([False,  True])"
      ]
     },
     "execution_count": 29,
     "metadata": {},
     "output_type": "execute_result"
    }
   ],
   "source": [
    "np.all([[True,False],[True,True]], axis=1)"
   ]
  },
  {
   "cell_type": "code",
   "execution_count": 30,
   "id": "b4315552",
   "metadata": {},
   "outputs": [
    {
     "data": {
      "text/plain": [
       "True"
      ]
     },
     "execution_count": 30,
     "metadata": {},
     "output_type": "execute_result"
    }
   ],
   "source": [
    "np.any([[True, False], [True, True]])"
   ]
  },
  {
   "cell_type": "markdown",
   "id": "8534c8fb",
   "metadata": {},
   "source": [
    "## Diffusion\n",
    "La diffusion fait référence à un ensemble de règles permettant d'appliquer une opération (qui ne s'applique normalement qu'à une seule valeur) à tous les éléments d'une table NumPy. Par exemple, pour des tableaux de même taille, des opérations telles que l'addition s'appliquent normalement élément par élément."
   ]
  },
  {
   "cell_type": "code",
   "execution_count": 32,
   "id": "e51919cc",
   "metadata": {},
   "outputs": [
    {
     "data": {
      "text/plain": [
       "array([5, 6, 7])"
      ]
     },
     "execution_count": 32,
     "metadata": {},
     "output_type": "execute_result"
    }
   ],
   "source": [
    "a = np.array([0, 1, 2])\n",
    "b = np.array([5, 5, 5])\n",
    "a + b"
   ]
  },
  {
   "cell_type": "code",
   "execution_count": null,
   "id": "020de06f",
   "metadata": {},
   "outputs": [],
   "source": []
  }
 ],
 "metadata": {
  "kernelspec": {
   "display_name": "Python 3 (ipykernel)",
   "language": "python",
   "name": "python3"
  },
  "language_info": {
   "codemirror_mode": {
    "name": "ipython",
    "version": 3
   },
   "file_extension": ".py",
   "mimetype": "text/x-python",
   "name": "python",
   "nbconvert_exporter": "python",
   "pygments_lexer": "ipython3",
   "version": "3.9.13"
  }
 },
 "nbformat": 4,
 "nbformat_minor": 5
}
