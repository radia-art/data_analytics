{
 "cells": [
  {
   "cell_type": "markdown",
   "id": "9f2879a0",
   "metadata": {},
   "source": [
    "# Copie de tableau NumPy vs vue"
   ]
  },
  {
   "cell_type": "markdown",
   "id": "276535ef",
   "metadata": {},
   "source": [
    "## La différence entre copy et view\n",
    "La principale différence entre une copie et une vue d'un tableau est que la copie est un nouveau tableau, et que la vue est juste une vue du tableau original.\n",
    "\n",
    "La copie possède les données et toute modification apportée à la copie n'affectera pas le tableau original, et toute modification apportée au tableau original n'affectera pas la copie.\n",
    "\n",
    "La vue ne possède pas les données et toute modification apportée à la vue affectera le tableau original, et toute modification apportée au tableau original affectera la vue.\n",
    "\n",
    "## COPY :\n",
    "#### Exemple\n",
    "Faites une copie, modifiez le tableau original et affichez les deux tableaux:"
   ]
  },
  {
   "cell_type": "code",
   "execution_count": 3,
   "id": "c7fcf3fb",
   "metadata": {},
   "outputs": [
    {
     "name": "stdout",
     "output_type": "stream",
     "text": [
      "[42  2  3  4  5]\n",
      "[1 2 3 4 5]\n"
     ]
    }
   ],
   "source": [
    "import numpy as np\n",
    "\n",
    "arr = np.array([1, 2, 3, 4, 5])\n",
    "c = arr.copy()\n",
    "arr[0] = 42\n",
    "\n",
    "print(arr)\n",
    "print(c)"
   ]
  },
  {
   "cell_type": "markdown",
   "id": "29b18d55",
   "metadata": {},
   "source": [
    "La copie NE DOIT PAS être affectée par les modifications apportées au tableau d'origine.\n",
    "\n",
    "## VIEW :\n",
    "#### Exemple\n",
    "Créez une vue, modifiez le tableau original et affichez les deux tableaux :"
   ]
  },
  {
   "cell_type": "code",
   "execution_count": 4,
   "id": "a2b37631",
   "metadata": {},
   "outputs": [
    {
     "name": "stdout",
     "output_type": "stream",
     "text": [
      "[42  2  3  4  5]\n",
      "[42  2  3  4  5]\n"
     ]
    }
   ],
   "source": [
    "import numpy as np\n",
    "\n",
    "arr = np.array([1, 2, 3, 4, 5])\n",
    "v = arr.view()\n",
    "arr[0] = 42\n",
    "\n",
    "print(arr)\n",
    "print(v)"
   ]
  },
  {
   "cell_type": "markdown",
   "id": "67c9f46e",
   "metadata": {},
   "source": [
    "La vue DEVRAIT être affectée par les modifications apportées au tableau d'origine.\n",
    "\n",
    "## Faire des changements dans la VIEW :\n",
    "#### Exemple\n",
    "Créez une vue, modifiez-la et affichez les deux tableaux :"
   ]
  },
  {
   "cell_type": "code",
   "execution_count": 1,
   "id": "5e4e6315",
   "metadata": {},
   "outputs": [
    {
     "name": "stdout",
     "output_type": "stream",
     "text": [
      "[31  2  3  4  5]\n",
      "[31  2  3  4  5]\n"
     ]
    }
   ],
   "source": [
    "import numpy as np\n",
    "\n",
    "arr = np.array([1, 2, 3, 4, 5])\n",
    "v = arr.view()\n",
    "v[0] = 31\n",
    "\n",
    "print(arr)\n",
    "print(v)"
   ]
  },
  {
   "cell_type": "markdown",
   "id": "a88a3e49",
   "metadata": {},
   "source": [
    "Le tableau original DEVRAIT être affecté par les modifications apportées à la vue.\n",
    "\n",
    "## Vérifier si le tableau possède ses données\n",
    "Comme mentionné ci-dessus, les copies possèdent les données, et les vues ne possèdent pas les données, mais comment pouvons-nous vérifier cela ?\n",
    "\n",
    "Chaque tableau NumPy possède l'attribut base qui renvoie None si le tableau possède les données.\n",
    "\n",
    "Sinon, l'attribut base fait référence à l'objet original.\n",
    "\n",
    "#### Exemple\n",
    "Imprimez la valeur de l'attribut base pour vérifier si un tableau possède ses données ou non :"
   ]
  },
  {
   "cell_type": "code",
   "execution_count": 6,
   "id": "7b532f3e",
   "metadata": {},
   "outputs": [
    {
     "name": "stdout",
     "output_type": "stream",
     "text": [
      "None\n",
      "[1 2 3 4 5]\n"
     ]
    }
   ],
   "source": [
    "import numpy as np\n",
    "\n",
    "arr = np.array([1, 2, 3, 4, 5])\n",
    "\n",
    "x = arr.copy()\n",
    "y = arr.view()\n",
    "\n",
    "print(x.base)\n",
    "print(y.base)"
   ]
  },
  {
   "cell_type": "markdown",
   "id": "770bbce0",
   "metadata": {},
   "source": [
    "# Forme et taille du tableau NumPy\n",
    "## Obtenir la taille d'un tableau\n",
    "L'attribut size renvoie le nombre d'élément constituant un tableau.\n",
    "#### Exemple\n",
    "Afficher la taille du tableau 2-D suivant :"
   ]
  },
  {
   "cell_type": "code",
   "execution_count": 2,
   "id": "c82d09b7",
   "metadata": {},
   "outputs": [
    {
     "name": "stdout",
     "output_type": "stream",
     "text": [
      "8\n"
     ]
    }
   ],
   "source": [
    "import numpy as np\n",
    "\n",
    "arr = np.array([[1, 2, 3, 4], [5, 6, 7, 8]])\n",
    "\n",
    "print(arr.size)"
   ]
  },
  {
   "cell_type": "markdown",
   "id": "137fac85",
   "metadata": {},
   "source": [
    "## Obtenir la forme d'un tableau\n",
    "__Forme d'un tableau__ : La forme d'un tableau est le nombre d'éléments dans chaque dimension.\n",
    "\n",
    "Les tableaux NumPy ont un attribut appelé shape qui renvoie un tuple avec chaque index ayant le nombre d'éléments correspondants.\n",
    "\n",
    "#### Exemple\n",
    "Affiche la forme d'un tableau 2-D :"
   ]
  },
  {
   "cell_type": "code",
   "execution_count": 7,
   "id": "5f9dd00e",
   "metadata": {},
   "outputs": [
    {
     "name": "stdout",
     "output_type": "stream",
     "text": [
      "(2, 4)\n"
     ]
    }
   ],
   "source": [
    "import numpy as np\n",
    "\n",
    "arr = np.array([[1, 2, 3, 4], [5, 6, 7, 8]])\n",
    "\n",
    "print(arr.shape)"
   ]
  },
  {
   "cell_type": "markdown",
   "id": "e59fabd3",
   "metadata": {},
   "source": [
    "L'exemple ci-dessus renvoie (2, 4), ce qui signifie que le tableau a 2 dimensions, où la première dimension a 2 éléments et la seconde 4."
   ]
  },
  {
   "cell_type": "markdown",
   "id": "52e8c5b6",
   "metadata": {},
   "source": [
    "#### Exemple\n",
    "Créer un tableau à 5 dimensions en utilisant ndmin en utilisant un vecteur avec les valeurs 1,2,3,4 et vérifier que la dernière dimension a la valeur 4 :"
   ]
  },
  {
   "cell_type": "code",
   "execution_count": 8,
   "id": "9b4b7ec7",
   "metadata": {},
   "outputs": [
    {
     "name": "stdout",
     "output_type": "stream",
     "text": [
      "[[[[[1 2 3 4]]]]]\n",
      "shape of array : (1, 1, 1, 1, 4)\n"
     ]
    }
   ],
   "source": [
    "import numpy as np\n",
    "\n",
    "arr = np.array([1, 2, 3, 4], ndmin=5)\n",
    "\n",
    "print(arr)\n",
    "print('shape of array :', arr.shape)"
   ]
  },
  {
   "cell_type": "markdown",
   "id": "5c7a6c60",
   "metadata": {},
   "source": [
    "### Que représente le tuple de forme ?\n",
    "\n",
    "Les nombres entiers à chaque index indiquent le nombre d'éléments de la dimension correspondante.\n",
    "\n",
    "Dans l'exemple ci-dessus, à l'indice 4, nous avons la valeur 4, nous pouvons donc dire que la 5ème dimension (4 + 1) a 4 éléments."
   ]
  },
  {
   "cell_type": "markdown",
   "id": "679c03d5",
   "metadata": {},
   "source": [
    "### Squeeze\n",
    "*numpy.squeeze* renvoie le tableau d'entrée, mais avec toutes ou un sous-ensemble des dimensions de longueur 1 enlevées."
   ]
  },
  {
   "cell_type": "code",
   "execution_count": 3,
   "id": "9aca2ec3",
   "metadata": {
    "scrolled": true
   },
   "outputs": [
    {
     "data": {
      "text/plain": [
       "(1, 3, 2)"
      ]
     },
     "execution_count": 3,
     "metadata": {},
     "output_type": "execute_result"
    }
   ],
   "source": [
    "x = np.array([[[0,1], [1,2], [2,3]]])\n",
    "x.shape"
   ]
  },
  {
   "cell_type": "code",
   "execution_count": 5,
   "id": "04916704",
   "metadata": {},
   "outputs": [
    {
     "data": {
      "text/plain": [
       "(3, 2)"
      ]
     },
     "execution_count": 5,
     "metadata": {},
     "output_type": "execute_result"
    }
   ],
   "source": [
    "x = np.array([[[0,1], [1,2], [2,3]]])\n",
    "np.squeeze(x).shape"
   ]
  },
  {
   "cell_type": "markdown",
   "id": "89fc6984",
   "metadata": {},
   "source": [
    "# Réorganisation des tableaux NumPy\n",
    "\n",
    "Le Réorganisation consiste à modifier la forme d'un tableau.\n",
    "\n",
    "La forme d'un tableau est le nombre d'éléments dans chaque dimension.\n",
    "\n",
    "En Réorganisation, nous pouvons ajouter ou supprimer des dimensions ou changer le nombre d'éléments dans chaque dimension.\n",
    "\n",
    "## Réorganisation : de 1-D à 2-D\n",
    "#### Exemple\n",
    "Convertissez le tableau 1-D suivant avec 12 éléments en un tableau 2-D.\n",
    "\n",
    "La dimension la plus extérieure comprendra 4 tableaux, chacun contenant 3 éléments :"
   ]
  },
  {
   "cell_type": "code",
   "execution_count": 9,
   "id": "74d4ee12",
   "metadata": {},
   "outputs": [
    {
     "name": "stdout",
     "output_type": "stream",
     "text": [
      "[[ 1  2  3]\n",
      " [ 4  5  6]\n",
      " [ 7  8  9]\n",
      " [10 11 12]]\n"
     ]
    }
   ],
   "source": [
    "import numpy as np\n",
    "\n",
    "arr = np.array([1, 2, 3, 4, 5, 6, 7, 8, 9, 10, 11, 12])\n",
    "\n",
    "newarr = arr.reshape(4, 3)\n",
    "\n",
    "print(newarr)"
   ]
  },
  {
   "cell_type": "markdown",
   "id": "0da5f67d",
   "metadata": {},
   "source": [
    "## Reshape de 1-D à 3-D\n",
    "#### Exemple\n",
    "Convertissez le tableau 1-D suivant avec 12 éléments en un tableau 3-D.\n",
    "\n",
    "La dimension la plus externe aura 2 tableaux qui contiendront 3 tableaux, chacun avec 2 éléments :"
   ]
  },
  {
   "cell_type": "code",
   "execution_count": 10,
   "id": "e1f739c3",
   "metadata": {},
   "outputs": [
    {
     "name": "stdout",
     "output_type": "stream",
     "text": [
      "[[[ 1  2]\n",
      "  [ 3  4]\n",
      "  [ 5  6]]\n",
      "\n",
      " [[ 7  8]\n",
      "  [ 9 10]\n",
      "  [11 12]]]\n"
     ]
    }
   ],
   "source": [
    "import numpy as np\n",
    "\n",
    "arr = np.array([1, 2, 3, 4, 5, 6, 7, 8, 9, 10, 11, 12])\n",
    "\n",
    "newarr = arr.reshape(2, 3, 2)\n",
    "\n",
    "print(newarr)"
   ]
  },
  {
   "cell_type": "markdown",
   "id": "e72f8e32",
   "metadata": {},
   "source": [
    "## Peut-on remodeler dans n'importe quelle forme ?\n",
    "__OUI__, tant que les éléments requis pour le remodelage sont égaux dans les deux formes.\n",
    "\n",
    "Nous pouvons transformer un tableau 1D de 8 éléments en un tableau 2D de 4 éléments sur 2 rangées, mais nous ne pouvons pas le transformer en un tableau 2D de 3 éléments sur 3 rangées, car cela nécessiterait 3x3 = 9 éléments."
   ]
  },
  {
   "cell_type": "markdown",
   "id": "e3b6da41",
   "metadata": {},
   "source": [
    "#### Exemple\n",
    "Essayez de convertir un tableau 1D avec 8 éléments en un tableau 2D avec 3 éléments dans chaque dimension (cela provoquera une erreur) :"
   ]
  },
  {
   "cell_type": "code",
   "execution_count": 6,
   "id": "76d2003d",
   "metadata": {},
   "outputs": [
    {
     "name": "stdout",
     "output_type": "stream",
     "text": [
      "[[[1 2]\n",
      "  [3 4]]\n",
      "\n",
      " [[5 6]\n",
      "  [7 8]]]\n"
     ]
    }
   ],
   "source": [
    "import numpy as np\n",
    "\n",
    "arr = np.array([1, 2, 3, 4, 5, 6, 7, 8])\n",
    "\n",
    "newarr = arr.reshape(2,2,2)\n",
    "\n",
    "print(newarr)"
   ]
  },
  {
   "cell_type": "markdown",
   "id": "8252ca0b",
   "metadata": {},
   "source": [
    "## On Retourne une Copie ou une Vue ?\n",
    "#### Exemple\n",
    "Vérifier si le tableau retourné est une copie ou une vue :"
   ]
  },
  {
   "cell_type": "code",
   "execution_count": 12,
   "id": "e977fc6b",
   "metadata": {},
   "outputs": [
    {
     "name": "stdout",
     "output_type": "stream",
     "text": [
      "[1 2 3 4 5 6 7 8]\n"
     ]
    }
   ],
   "source": [
    "import numpy as np\n",
    "\n",
    "arr = np.array([1, 2, 3, 4, 5, 6, 7, 8])\n",
    "\n",
    "print(arr.reshape(2, 4).base)"
   ]
  },
  {
   "cell_type": "markdown",
   "id": "50a9199a",
   "metadata": {},
   "source": [
    "L'exemple ci-dessus renvoie le tableau original, il s'agit donc d'une vue."
   ]
  },
  {
   "cell_type": "markdown",
   "id": "318b6445",
   "metadata": {},
   "source": [
    "## Dimension inconnue\n",
    "Vous êtes autorisé à avoir une dimension \"inconnue\".\n",
    "\n",
    "Cela signifie que vous n'avez pas à spécifier un nombre exact pour l'une des dimensions dans la méthode reshape.\n",
    "\n",
    "Définissez -1 comme valeur, et NumPy calculera ce nombre pour vous.\n",
    "\n",
    "#### Exemple\n",
    "Convertir un tableau 1D de 8 éléments en un tableau 3D de 2x2 éléments:"
   ]
  },
  {
   "cell_type": "code",
   "execution_count": 12,
   "id": "1c842b46",
   "metadata": {},
   "outputs": [
    {
     "name": "stdout",
     "output_type": "stream",
     "text": [
      "[[[1 2]\n",
      "  [3 4]\n",
      "  [5 6]\n",
      "  [7 8]]]\n"
     ]
    }
   ],
   "source": [
    "import numpy as np\n",
    "\n",
    "arr = np.array([1, 2, 3, 4, 5, 6, 7, 8])\n",
    "\n",
    "newarr = arr.reshape(-1, 4, 2)\n",
    "\n",
    "print(newarr)"
   ]
  },
  {
   "cell_type": "markdown",
   "id": "4a0a865e",
   "metadata": {},
   "source": [
    "__Note__ : On ne peut pas définir -1 pour plus d'une dimension.\n",
    "\n",
    "## Aplatissement des tableaux\n",
    "Aplatir un tableau signifie convertir un tableau multidimensionnel en un tableau 1D.\n",
    "\n",
    "Nous pouvons utiliser reshape(-1) pour le faire.\n",
    "\n",
    "#### Exemple\n",
    "Convertir le tableau en un tableau 1D :"
   ]
  },
  {
   "cell_type": "code",
   "execution_count": 2,
   "id": "0a6aaf15",
   "metadata": {},
   "outputs": [
    {
     "name": "stdout",
     "output_type": "stream",
     "text": [
      "[1 2 3 4 5 6]\n"
     ]
    }
   ],
   "source": [
    "import numpy as np\n",
    "\n",
    "arr = np.array([[1, 2, 3], [4, 5, 6]])\n",
    "\n",
    "newarr = arr.reshape(-1)\n",
    "\n",
    "print(newarr)"
   ]
  },
  {
   "cell_type": "markdown",
   "id": "60bff76e",
   "metadata": {},
   "source": [
    "__Note__ : Il existe de nombreuses fonctions pour modifier la forme des tableaux dans numpy : *flatten, ravel* et aussi pour réarranger les éléments : *rot90, flip, fliplr, flipud*, etc. "
   ]
  },
  {
   "cell_type": "markdown",
   "id": "3cd9bbf9",
   "metadata": {},
   "source": [
    "## Exemples de manipulations des tableaux Numpy\n",
    "Executer les codes suivants pour comprendre le mode de fonctionnement des fonctions *flatten, ravel, flip, fliplr, flipud, et rot90*"
   ]
  },
  {
   "cell_type": "code",
   "execution_count": 2,
   "id": "0dc10864",
   "metadata": {},
   "outputs": [
    {
     "data": {
      "text/plain": [
       "array([1, 2, 3, 4])"
      ]
     },
     "execution_count": 2,
     "metadata": {},
     "output_type": "execute_result"
    }
   ],
   "source": [
    "import numpy as np\n",
    "a = np.array([[1,2], [3,4]])\n",
    "a.flatten()"
   ]
  },
  {
   "cell_type": "code",
   "execution_count": 3,
   "id": "22fa6389",
   "metadata": {},
   "outputs": [
    {
     "data": {
      "text/plain": [
       "array([1, 2, 3, 4, 5, 6])"
      ]
     },
     "execution_count": 3,
     "metadata": {},
     "output_type": "execute_result"
    }
   ],
   "source": [
    "x = np.array([[1, 2, 3], [4, 5, 6]])\n",
    "np.ravel(x)"
   ]
  },
  {
   "cell_type": "code",
   "execution_count": 4,
   "id": "29c1e325",
   "metadata": {},
   "outputs": [
    {
     "data": {
      "text/plain": [
       "array([[6, 5, 4],\n",
       "       [3, 2, 1]])"
      ]
     },
     "execution_count": 4,
     "metadata": {},
     "output_type": "execute_result"
    }
   ],
   "source": [
    "x = np.array([[1, 2, 3], [4, 5, 6]])\n",
    "np.flip(x)"
   ]
  },
  {
   "cell_type": "code",
   "execution_count": 5,
   "id": "176f0b63",
   "metadata": {},
   "outputs": [
    {
     "data": {
      "text/plain": [
       "array([[0., 0., 1.],\n",
       "       [0., 2., 0.],\n",
       "       [3., 0., 0.]])"
      ]
     },
     "execution_count": 5,
     "metadata": {},
     "output_type": "execute_result"
    }
   ],
   "source": [
    "A = np.diag([1.,2.,3.])\n",
    "np.fliplr(A)"
   ]
  },
  {
   "cell_type": "code",
   "execution_count": 6,
   "id": "cf03e22e",
   "metadata": {},
   "outputs": [
    {
     "data": {
      "text/plain": [
       "array([[0., 0., 3.],\n",
       "       [0., 2., 0.],\n",
       "       [1., 0., 0.]])"
      ]
     },
     "execution_count": 6,
     "metadata": {},
     "output_type": "execute_result"
    }
   ],
   "source": [
    "A = np.diag([1.0, 2, 3])\n",
    "np.flipud(A)"
   ]
  },
  {
   "cell_type": "code",
   "execution_count": 7,
   "id": "8eb10000",
   "metadata": {},
   "outputs": [
    {
     "data": {
      "text/plain": [
       "array([[2, 4],\n",
       "       [1, 3]])"
      ]
     },
     "execution_count": 7,
     "metadata": {},
     "output_type": "execute_result"
    }
   ],
   "source": [
    "m = np.array([[1,2],[3,4]])\n",
    "np.rot90(m)"
   ]
  },
  {
   "cell_type": "code",
   "execution_count": 8,
   "id": "e4eb84fc",
   "metadata": {},
   "outputs": [
    {
     "data": {
      "text/plain": [
       "array([[1., 3.],\n",
       "       [2., 4.]])"
      ]
     },
     "execution_count": 8,
     "metadata": {},
     "output_type": "execute_result"
    }
   ],
   "source": [
    "x = np.array([[1.,2.],[3.,4.]])\n",
    "x.T"
   ]
  },
  {
   "cell_type": "markdown",
   "id": "4b6530d8",
   "metadata": {},
   "source": [
    "# Itération d'un tableau NumPy\n",
    "__Itération de tableaux (Iterating Arrays)__ : Itérer signifie parcourir les éléments un par un.\n",
    "\n",
    "Comme nous traitons des tableaux multidimensionnels dans numpy, nous pouvons le faire en utilisant la boucle for de base de python.\n",
    "\n",
    "Si nous itérons sur un tableau 1-D, chaque élément sera parcouru un par un.\n",
    "\n",
    "#### Exemple\n",
    "Itérer sur les éléments du tableau 1-D suivant :"
   ]
  },
  {
   "cell_type": "code",
   "execution_count": 15,
   "id": "5a0e7c35",
   "metadata": {},
   "outputs": [
    {
     "name": "stdout",
     "output_type": "stream",
     "text": [
      "1\n",
      "2\n",
      "3\n"
     ]
    }
   ],
   "source": [
    "import numpy as np\n",
    "\n",
    "arr = np.array([1, 2, 3])\n",
    "\n",
    "for x in arr:\n",
    "    print(x)"
   ]
  },
  {
   "cell_type": "markdown",
   "id": "d89b130a",
   "metadata": {},
   "source": [
    "## Itération de tableaux 2-D\n",
    "Dans un tableau à deux dimensions, on parcourt toutes les lignes.\n",
    "\n",
    "#### Exemple\n",
    "Faites un itération sur les éléments du tableau 2-D suivant :"
   ]
  },
  {
   "cell_type": "code",
   "execution_count": 16,
   "id": "b9d2793c",
   "metadata": {},
   "outputs": [
    {
     "name": "stdout",
     "output_type": "stream",
     "text": [
      "[1 2 3]\n",
      "[4 5 6]\n"
     ]
    }
   ],
   "source": [
    "import numpy as np\n",
    "\n",
    "arr = np.array([[1, 2, 3], [4, 5, 6]])\n",
    "\n",
    "for x in arr:\n",
    "    print(x)"
   ]
  },
  {
   "cell_type": "markdown",
   "id": "f1dacfd0",
   "metadata": {},
   "source": [
    "Si nous itérons sur un tableau n-D, il passera par la dimension n-1, une par une.\n",
    "\n",
    "Pour retourner les valeurs réelles, les scalaires, nous devons itérer les tableaux dans chaque dimension.\n",
    "\n",
    "#### Exemple\n",
    "Itérer sur chaque élément scalaire du tableau 2-D :"
   ]
  },
  {
   "cell_type": "code",
   "execution_count": 17,
   "id": "ec4920c7",
   "metadata": {},
   "outputs": [
    {
     "name": "stdout",
     "output_type": "stream",
     "text": [
      "1\n",
      "2\n",
      "3\n",
      "4\n",
      "5\n",
      "6\n"
     ]
    }
   ],
   "source": [
    "import numpy as np\n",
    "\n",
    "arr = np.array([[1, 2, 3], [4, 5, 6]])\n",
    "\n",
    "for x in arr:\n",
    "    for y in x:\n",
    "        print(y)"
   ]
  },
  {
   "cell_type": "markdown",
   "id": "55a38b21",
   "metadata": {},
   "source": [
    "## Itération de tableaux 3-D\n",
    "Dans un tableau 3-D, tous les tableaux 2-D sont parcourus.\n",
    "\n",
    "#### Exemple\n",
    "Effectuez un itération sur les éléments du tableau 3-D suivant :"
   ]
  },
  {
   "cell_type": "code",
   "execution_count": 18,
   "id": "94bc079a",
   "metadata": {},
   "outputs": [
    {
     "name": "stdout",
     "output_type": "stream",
     "text": [
      "[[1 2 3]\n",
      " [4 5 6]]\n",
      "[[ 7  8  9]\n",
      " [10 11 12]]\n"
     ]
    }
   ],
   "source": [
    "import numpy as np\n",
    "\n",
    "arr = np.array([[[1, 2, 3], [4, 5, 6]], [[7, 8, 9], [10, 11, 12]]])\n",
    "\n",
    "for x in arr:\n",
    "    print(x)"
   ]
  },
  {
   "cell_type": "markdown",
   "id": "049ecc74",
   "metadata": {},
   "source": [
    "Pour retourner les valeurs réelles, les scalaires, nous devons itérer les tableaux dans chaque dimension.\n",
    "\n",
    "#### Exemple\n",
    "Itérer jusqu'aux scalaires :"
   ]
  },
  {
   "cell_type": "code",
   "execution_count": 19,
   "id": "a45daf72",
   "metadata": {},
   "outputs": [
    {
     "name": "stdout",
     "output_type": "stream",
     "text": [
      "1\n",
      "2\n",
      "3\n",
      "4\n",
      "5\n",
      "6\n",
      "7\n",
      "8\n",
      "9\n",
      "10\n",
      "11\n",
      "12\n"
     ]
    }
   ],
   "source": [
    "import numpy as np\n",
    "\n",
    "arr = np.array([[[1, 2, 3], [4, 5, 6]], [[7, 8, 9], [10, 11, 12]]])\n",
    "\n",
    "for x in arr:\n",
    "    for y in x:\n",
    "        for z in y:\n",
    "            print(z)"
   ]
  },
  {
   "cell_type": "markdown",
   "id": "90c09797",
   "metadata": {},
   "source": [
    "## Itération de tableaux avec nditer()\n",
    "La fonction *nditer()* est une fonction d'aide qui peut être utilisée pour des itérations très basiques ou très avancées. Elle résout certains problèmes de base auxquels nous sommes confrontés dans l'itération, voyons cela avec des exemples.\n",
    "\n",
    "### Itération sur chaque élément scalaire\n",
    "Dans les boucles for de base, l'itération sur chaque scalaire d'un tableau nécessite l'utilisation de n boucles for, ce qui peut être difficile à écrire pour des tableaux de très grande dimension.\n",
    "\n",
    "#### Exemple\n",
    "Effectuez un itération dans le tableau 3-D suivant :"
   ]
  },
  {
   "cell_type": "code",
   "execution_count": 20,
   "id": "ba02b9f9",
   "metadata": {},
   "outputs": [
    {
     "name": "stdout",
     "output_type": "stream",
     "text": [
      "1\n",
      "2\n",
      "3\n",
      "4\n",
      "5\n",
      "6\n",
      "7\n",
      "8\n"
     ]
    }
   ],
   "source": [
    "import numpy as np\n",
    "\n",
    "arr = np.array([[[1, 2], [3, 4]], [[5, 6], [7, 8]]])\n",
    "\n",
    "for x in np.nditer(arr):\n",
    "    print(x)"
   ]
  },
  {
   "cell_type": "markdown",
   "id": "cdacbfbb",
   "metadata": {},
   "source": [
    "## Itération d'un tableau avec différents types de données\n",
    "Nous pouvons utiliser l'argument op_dtypes et lui définir le type de données attendu pour changer le type de données des éléments pendant l'itération.\n",
    "\n",
    "NumPy ne change pas le type de données de l'élément in-place (lorsque l'élément est dans le tableau), il a donc besoin d'un autre espace pour effectuer cette action, cet espace supplémentaire est appelé tampon, et afin de l'activer dans nditer() nous passons flags=['buffered'].\n",
    "#### Exemple\n",
    "Interroger le tableau en tant que chaîne de caractères :"
   ]
  },
  {
   "cell_type": "code",
   "execution_count": 21,
   "id": "c14c554c",
   "metadata": {},
   "outputs": [
    {
     "name": "stdout",
     "output_type": "stream",
     "text": [
      "b'1'\n",
      "b'2'\n",
      "b'3'\n"
     ]
    }
   ],
   "source": [
    "import numpy as np\n",
    "\n",
    "arr = np.array([1, 2, 3])\n",
    "\n",
    "for x in np.nditer(arr, flags=['buffered'], op_dtypes=['S']):\n",
    "    print(x)"
   ]
  },
  {
   "cell_type": "markdown",
   "id": "e5f4cd8c",
   "metadata": {},
   "source": [
    "## Itération avec différentes tailles de pas\n",
    "Nous pouvons utiliser le filtrage suivi de l'itération.\n",
    "\n",
    "#### Exemple\n",
    "Itérer à travers chaque élément scalaire du tableau 2D en sautant 1 élément :"
   ]
  },
  {
   "cell_type": "code",
   "execution_count": 22,
   "id": "0f1edcee",
   "metadata": {},
   "outputs": [
    {
     "name": "stdout",
     "output_type": "stream",
     "text": [
      "1\n",
      "3\n",
      "5\n",
      "7\n"
     ]
    }
   ],
   "source": [
    "import numpy as np\n",
    "\n",
    "arr = np.array([[1, 2, 3, 4], [5, 6, 7, 8]])\n",
    "\n",
    "for x in np.nditer(arr[:, ::2]):\n",
    "    print(x)"
   ]
  },
  {
   "cell_type": "markdown",
   "id": "1e3c6e6f",
   "metadata": {},
   "source": [
    "## Itération énumérée à l'aide de ndenumerate()\n",
    "L'énumération consiste à mentionner le numéro de séquence de quelque chose un par un.\n",
    "\n",
    "Parfois, nous avons besoin de l'index correspondant de l'élément lors de l'itération, la méthode ndenumerate() peut être utilisée pour ces cas d'utilisation.\n",
    "\n",
    "#### Exemple\n",
    "Enumérer les éléments suivants d'un tableau 1D :"
   ]
  },
  {
   "cell_type": "code",
   "execution_count": 23,
   "id": "f822a4bc",
   "metadata": {},
   "outputs": [
    {
     "name": "stdout",
     "output_type": "stream",
     "text": [
      "(0,) 1\n",
      "(1,) 2\n",
      "(2,) 3\n"
     ]
    }
   ],
   "source": [
    "import numpy as np\n",
    "\n",
    "arr = np.array([1, 2, 3])\n",
    "\n",
    "for idx, x in np.ndenumerate(arr):\n",
    "    print(idx, x)"
   ]
  },
  {
   "cell_type": "markdown",
   "id": "3938e229",
   "metadata": {},
   "source": [
    "#### Exemple\n",
    "Énumérer les éléments du tableau 2D suivant :"
   ]
  },
  {
   "cell_type": "code",
   "execution_count": 24,
   "id": "9d6527b1",
   "metadata": {},
   "outputs": [
    {
     "name": "stdout",
     "output_type": "stream",
     "text": [
      "(0, 0) 1\n",
      "(0, 1) 2\n",
      "(0, 2) 3\n",
      "(0, 3) 4\n",
      "(1, 0) 5\n",
      "(1, 1) 6\n",
      "(1, 2) 7\n",
      "(1, 3) 8\n"
     ]
    }
   ],
   "source": [
    "import numpy as np\n",
    "\n",
    "arr = np.array([[1, 2, 3, 4], [5, 6, 7, 8]])\n",
    "\n",
    "for idx, x in np.ndenumerate(arr):\n",
    "    print(idx, x)"
   ]
  },
  {
   "cell_type": "markdown",
   "id": "ca44c5bb",
   "metadata": {},
   "source": [
    "# NumPy : jointure de tableaux"
   ]
  },
  {
   "cell_type": "markdown",
   "id": "cceb8111",
   "metadata": {},
   "source": [
    "## Joindre des tableaux NumPy"
   ]
  },
  {
   "cell_type": "markdown",
   "id": "df72d6e3",
   "metadata": {},
   "source": [
    "La jointure consiste à mettre le contenu de deux tableaux ou plus dans un seul tableau.\n",
    "\n",
    "En SQL, nous joignons des tableaux en fonction d'une clé, alors qu'en NumPy, nous joignons des tableaux par axes.\n",
    "\n",
    "Nous passons une séquence de tableaux que nous voulons joindre à la fonction concatenate(), ainsi que l'axe. Si l'axe n'est pas défini explicitement, il est pris égal à 0.\n",
    "\n",
    "#### Exemple\n",
    "Joindre deux tableaux : "
   ]
  },
  {
   "cell_type": "code",
   "execution_count": 33,
   "id": "ad7ad251",
   "metadata": {
    "scrolled": false
   },
   "outputs": [
    {
     "name": "stdout",
     "output_type": "stream",
     "text": [
      "[1 2 3 4 5 6]\n"
     ]
    }
   ],
   "source": [
    "import numpy as np\n",
    "\n",
    "arr1 = np.array([1, 2, 3])\n",
    "\n",
    "arr2 = np.array([4, 5, 6])\n",
    "\n",
    "arr = np.concatenate((arr1, arr2))\n",
    "\n",
    "print(arr)"
   ]
  },
  {
   "cell_type": "markdown",
   "id": "9da685c7",
   "metadata": {},
   "source": [
    "#### Exemple\n",
    "Joindre deux tableaux 2-D le long des lignes (axe=1) :"
   ]
  },
  {
   "cell_type": "code",
   "execution_count": 1,
   "id": "5d0830b5",
   "metadata": {
    "scrolled": true
   },
   "outputs": [
    {
     "name": "stdout",
     "output_type": "stream",
     "text": [
      "[[1 2 5 6]\n",
      " [3 4 7 8]]\n"
     ]
    }
   ],
   "source": [
    "import numpy as np\n",
    "\n",
    "arr1 = np.array([[1, 2], [3, 4]])\n",
    "\n",
    "arr2 = np.array([[5, 6], [7, 8]])\n",
    "\n",
    "arr = np.concatenate((arr1, arr2), axis=1)\n",
    "\n",
    "print(arr)"
   ]
  },
  {
   "cell_type": "markdown",
   "id": "6f5bc873",
   "metadata": {},
   "source": [
    "## Joindre des tableaux en utilisant des fonctions de pile\n",
    "\n",
    "L'empilage est identique à la concaténation, la seule différence étant que l'empilage est effectué le long d'un nouvel axe.\n",
    "\n",
    "Nous pouvons concaténer deux tableaux 1-D le long du deuxième axe, ce qui revient à les placer l'un sur l'autre, c'est-à-dire à les empiler.\n",
    "\n",
    "Nous passons une séquence de tableaux que nous voulons joindre à la méthode stack() avec l'axe. Si l'axe n'est pas défini explicitement, il est considéré comme égal à 0.\n",
    "\n",
    "#### Exemple"
   ]
  },
  {
   "cell_type": "code",
   "execution_count": 2,
   "id": "82e66941",
   "metadata": {},
   "outputs": [
    {
     "name": "stdout",
     "output_type": "stream",
     "text": [
      "[[1 2 3]\n",
      " [4 5 6]]\n"
     ]
    }
   ],
   "source": [
    "import numpy as np\n",
    "\n",
    "arr1 = np.array([1, 2, 3])\n",
    "\n",
    "arr2 = np.array([4, 5, 6])\n",
    "\n",
    "arr = np.stack((arr1, arr2), axis=0)\n",
    "\n",
    "print(arr)"
   ]
  },
  {
   "cell_type": "markdown",
   "id": "07279f9d",
   "metadata": {},
   "source": [
    "## Empilement le long des lignes\n",
    "NumPy fournit une fonction d'aide : hstack() pour empiler le long des lignes.\n",
    "\n",
    "#### Exemple"
   ]
  },
  {
   "cell_type": "code",
   "execution_count": 30,
   "id": "171ce8bc",
   "metadata": {},
   "outputs": [
    {
     "name": "stdout",
     "output_type": "stream",
     "text": [
      "[1 2 3 4 5 6]\n"
     ]
    }
   ],
   "source": [
    "import numpy as np\n",
    "\n",
    "arr1 = np.array([1, 2, 3])\n",
    "\n",
    "arr2 = np.array([4, 5, 6])\n",
    "\n",
    "arr = np.hstack((arr1, arr2))\n",
    "\n",
    "print(arr)"
   ]
  },
  {
   "cell_type": "markdown",
   "id": "b63474e4",
   "metadata": {},
   "source": [
    "## Empilement le long des colonnes\n",
    "NumPy fournit une fonction d'aide : vstack() pour empiler le long des colonnes.\n",
    "\n",
    "#### Exemple"
   ]
  },
  {
   "cell_type": "code",
   "execution_count": 31,
   "id": "bdbc0495",
   "metadata": {},
   "outputs": [
    {
     "name": "stdout",
     "output_type": "stream",
     "text": [
      "[[1 2 3]\n",
      " [4 5 6]]\n"
     ]
    }
   ],
   "source": [
    "import numpy as np\n",
    "\n",
    "arr1 = np.array([1, 2, 3])\n",
    "\n",
    "arr2 = np.array([4, 5, 6])\n",
    "\n",
    "arr = np.vstack((arr1, arr2))\n",
    "\n",
    "print(arr)"
   ]
  },
  {
   "cell_type": "markdown",
   "id": "e123079f",
   "metadata": {},
   "source": [
    "## Empilement selon la hauteur (profondeur)\n",
    "NumPy fournit une fonction d'aide : dstack() pour empiler selon la hauteur, qui est la même que la profondeur.\n",
    "\n",
    "#### Exemple"
   ]
  },
  {
   "cell_type": "code",
   "execution_count": 32,
   "id": "bd296259",
   "metadata": {},
   "outputs": [
    {
     "name": "stdout",
     "output_type": "stream",
     "text": [
      "[[[1 4]\n",
      "  [2 5]\n",
      "  [3 6]]]\n"
     ]
    }
   ],
   "source": [
    "import numpy as np\n",
    "\n",
    "arr1 = np.array([1, 2, 3])\n",
    "\n",
    "arr2 = np.array([4, 5, 6])\n",
    "\n",
    "arr = np.dstack((arr1, arr2))\n",
    "\n",
    "print(arr)"
   ]
  },
  {
   "cell_type": "markdown",
   "id": "48e63cdc",
   "metadata": {},
   "source": [
    "# Fractionnement des tableaux NumPy\n",
    "La division est l'opération inverse de la jonction.\n",
    "\n",
    "La jointure fusionne plusieurs tableaux en un seul et la division divise un tableau en plusieurs.\n",
    "\n",
    "Nous utilisons array_split() pour diviser les tableaux, nous lui définissons le tableau que nous voulons diviser et le nombre de divisions.\n",
    "\n",
    "#### Exemple\n",
    "Divise le tableau en 3 parties :"
   ]
  },
  {
   "cell_type": "code",
   "execution_count": 3,
   "id": "d245df11",
   "metadata": {},
   "outputs": [
    {
     "name": "stdout",
     "output_type": "stream",
     "text": [
      "[array([1, 2]), array([3, 4]), array([5]), array([6])]\n"
     ]
    }
   ],
   "source": [
    "import numpy as np\n",
    "\n",
    "arr = np.array([1, 2, 3, 4, 5, 6])\n",
    "\n",
    "newarr = np.array_split(arr, 4)\n",
    "\n",
    "print(newarr)"
   ]
  },
  {
   "cell_type": "markdown",
   "id": "0bea9858",
   "metadata": {},
   "source": [
    "__Note__ : La valeur de retour est un tableau contenant trois tableaux.\n",
    "\n",
    "Si le tableau a moins d'éléments que nécessaire, il sera ajusté à partir de la fin en conséquence.\n",
    "\n",
    "#### Exemple\n",
    "Divisez le tableau en 4 parties :"
   ]
  },
  {
   "cell_type": "code",
   "execution_count": 44,
   "id": "ca4023f0",
   "metadata": {},
   "outputs": [
    {
     "name": "stdout",
     "output_type": "stream",
     "text": [
      "[array([1, 2]), array([3, 4]), array([5]), array([6])]\n"
     ]
    }
   ],
   "source": [
    "import numpy as np\n",
    "\n",
    "arr = np.array([1, 2, 3, 4, 5, 6])\n",
    "\n",
    "newarr = np.array_split(arr, 4)\n",
    "\n",
    "print(newarr)"
   ]
  },
  {
   "cell_type": "markdown",
   "id": "6658e276",
   "metadata": {},
   "source": [
    "__Remarque__ : Nous avons également la méthode split() disponible mais elle n'ajustera pas les éléments quand il y a moins d'éléments dans le tableau source à diviser comme dans l'exemple ci-dessus, array_split() a fonctionné correctement mais split() a échoué."
   ]
  },
  {
   "cell_type": "markdown",
   "id": "cc8e3acb",
   "metadata": {},
   "source": [
    "## Diviser en tableaux\n",
    "La valeur de retour de la méthode array_split() est un tableau contenant chacun des éléments divisés sous forme de tableau.\n",
    "\n",
    "Si vous divisez un tableau en 3 tableaux, vous pouvez y accéder à partir du résultat comme n'importe quel élément de tableau :\n",
    "\n",
    "#### Exemple\n",
    "Accéder aux tableaux divisés :"
   ]
  },
  {
   "cell_type": "code",
   "execution_count": 45,
   "id": "4245dc17",
   "metadata": {},
   "outputs": [
    {
     "name": "stdout",
     "output_type": "stream",
     "text": [
      "[1 2]\n",
      "[3 4]\n",
      "[5 6]\n"
     ]
    }
   ],
   "source": [
    "import numpy as np\n",
    "\n",
    "arr = np.array([1, 2, 3, 4, 5, 6])\n",
    "\n",
    "newarr = np.array_split(arr, 3)\n",
    "\n",
    "print(newarr[0])\n",
    "print(newarr[1])\n",
    "print(newarr[2])"
   ]
  },
  {
   "cell_type": "markdown",
   "id": "02aae24f",
   "metadata": {},
   "source": [
    "## Fractionnement de tableaux 2-D\n",
    "Utilisez la même syntaxe pour diviser les tableaux 2-D.\n",
    "\n",
    "Utilisez la méthode array_split(), définissez le tableau que vous souhaitez diviser et le nombre de divisions que vous souhaitez effectuer.\n",
    "\n",
    "#### Exemple\n",
    "Divisez le tableau 2-D en trois tableaux 2-D."
   ]
  },
  {
   "cell_type": "code",
   "execution_count": 6,
   "id": "43cc19e7",
   "metadata": {},
   "outputs": [
    {
     "name": "stdout",
     "output_type": "stream",
     "text": [
      "[array([[1, 2],\n",
      "       [3, 4]]), array([[5, 6],\n",
      "       [7, 8]]), array([[ 9, 10],\n",
      "       [11, 12]])]\n"
     ]
    }
   ],
   "source": [
    "import numpy as np\n",
    "\n",
    "arr = np.array([[1, 2], [3, 4], [5, 6], [7, 8], [9, 10], [11, 12]])\n",
    "\n",
    "newarr = np.array_split(arr, 3)\n",
    "\n",
    "print(newarr)"
   ]
  },
  {
   "cell_type": "markdown",
   "id": "c6bdd9d1",
   "metadata": {},
   "source": [
    "L'exemple ci-dessus renvoie trois tableaux 2-D.\n",
    "\n",
    "Voyons un autre exemple, cette fois-ci chaque élément des tableaux 2-D contient 3 éléments.\n",
    "\n",
    "#### Exemple\n",
    "Divisez le tableau 2-D en trois tableaux 2-D."
   ]
  },
  {
   "cell_type": "code",
   "execution_count": 47,
   "id": "4c5b1dc5",
   "metadata": {},
   "outputs": [
    {
     "name": "stdout",
     "output_type": "stream",
     "text": [
      "[array([[1, 2, 3],\n",
      "       [4, 5, 6]]), array([[ 7,  8,  9],\n",
      "       [10, 11, 12]]), array([[13, 14, 15],\n",
      "       [16, 17, 18]])]\n"
     ]
    }
   ],
   "source": [
    "import numpy as np\n",
    "\n",
    "arr = np.array([[1, 2, 3], [4, 5, 6], [7, 8, 9], [10, 11, 12], [13, 14, 15], [16, 17, 18]])\n",
    "\n",
    "newarr = np.array_split(arr, 3)\n",
    "\n",
    "print(newarr)"
   ]
  },
  {
   "cell_type": "markdown",
   "id": "45c2c8f5",
   "metadata": {},
   "source": [
    "L'exemple ci-dessus renvoie trois tableaux bidimensionnels.\n",
    "\n",
    "En outre, vous pouvez spécifier l'axe autour duquel vous souhaitez effectuer la division.\n",
    "\n",
    "L'exemple ci-dessous renvoie également trois tableaux 2-D, mais ils sont divisés le long de la ligne (axe=1).\n",
    "\n",
    "#### Exemple\n",
    "Divise le tableau 2-D en trois tableaux 2-D le long des lignes."
   ]
  },
  {
   "cell_type": "code",
   "execution_count": 48,
   "id": "56507931",
   "metadata": {},
   "outputs": [
    {
     "name": "stdout",
     "output_type": "stream",
     "text": [
      "[array([[ 1],\n",
      "       [ 4],\n",
      "       [ 7],\n",
      "       [10],\n",
      "       [13],\n",
      "       [16]]), array([[ 2],\n",
      "       [ 5],\n",
      "       [ 8],\n",
      "       [11],\n",
      "       [14],\n",
      "       [17]]), array([[ 3],\n",
      "       [ 6],\n",
      "       [ 9],\n",
      "       [12],\n",
      "       [15],\n",
      "       [18]])]\n"
     ]
    }
   ],
   "source": [
    "import numpy as np\n",
    "\n",
    "arr = np.array([[1, 2, 3], [4, 5, 6], [7, 8, 9], [10, 11, 12], [13, 14, 15], [16, 17, 18]])\n",
    "\n",
    "newarr = np.array_split(arr, 3, axis=1)\n",
    "\n",
    "print(newarr)"
   ]
  },
  {
   "cell_type": "markdown",
   "id": "585ab842",
   "metadata": {},
   "source": [
    "Une solution alternative consiste à utiliser hsplit() à l'opposé de hstack()\n",
    "\n",
    "#### Exemple\n",
    "Utilisez la méthode hsplit() pour diviser le tableau 2-D en trois tableaux 2-D le long des lignes."
   ]
  },
  {
   "cell_type": "code",
   "execution_count": 49,
   "id": "86018198",
   "metadata": {},
   "outputs": [
    {
     "name": "stdout",
     "output_type": "stream",
     "text": [
      "[array([[ 1],\n",
      "       [ 4],\n",
      "       [ 7],\n",
      "       [10],\n",
      "       [13],\n",
      "       [16]]), array([[ 2],\n",
      "       [ 5],\n",
      "       [ 8],\n",
      "       [11],\n",
      "       [14],\n",
      "       [17]]), array([[ 3],\n",
      "       [ 6],\n",
      "       [ 9],\n",
      "       [12],\n",
      "       [15],\n",
      "       [18]])]\n"
     ]
    }
   ],
   "source": [
    "import numpy as np\n",
    "\n",
    "arr = np.array([[1, 2, 3], [4, 5, 6], [7, 8, 9], [10, 11, 12], [13, 14, 15], [16, 17, 18]])\n",
    "\n",
    "newarr = np.hsplit(arr, 3)\n",
    "\n",
    "print(newarr)"
   ]
  },
  {
   "cell_type": "markdown",
   "id": "f6773d53",
   "metadata": {},
   "source": [
    "__Note__ : Des alternatives similaires à vstack() et dstack() sont disponibles en tant que vsplit() et dsplit()."
   ]
  },
  {
   "cell_type": "markdown",
   "id": "4345837e",
   "metadata": {},
   "source": [
    "# Recherche dans les tableaux de NumPy"
   ]
  },
  {
   "cell_type": "markdown",
   "id": "9f2756ab",
   "metadata": {},
   "source": [
    "## Recherche dans les tableaux\n",
    "Vous pouvez rechercher une valeur donnée dans un tableau et renvoyer les index qui correspondent à cette valeur.\n",
    "\n",
    "Pour rechercher dans un tableau, utilisez la méthode where()."
   ]
  },
  {
   "cell_type": "markdown",
   "id": "1859b2e7",
   "metadata": {},
   "source": [
    "#### Exemple\n",
    "Trouvez les indices où les valeurs sont paires :"
   ]
  },
  {
   "cell_type": "code",
   "execution_count": 51,
   "id": "17484af4",
   "metadata": {},
   "outputs": [
    {
     "name": "stdout",
     "output_type": "stream",
     "text": [
      "(array([1, 3, 5, 7], dtype=int64),)\n"
     ]
    }
   ],
   "source": [
    "import numpy as np\n",
    "\n",
    "arr = np.array([1, 2, 3, 4, 5, 6, 7, 8])\n",
    "\n",
    "x = np.where(arr%2 == 0)\n",
    "\n",
    "print(x)"
   ]
  },
  {
   "cell_type": "markdown",
   "id": "bb756aec",
   "metadata": {},
   "source": [
    "#### Exemple\n",
    "Trouvez les indices où les valeurs sont impaires :"
   ]
  },
  {
   "cell_type": "code",
   "execution_count": 52,
   "id": "b34cdb70",
   "metadata": {},
   "outputs": [
    {
     "name": "stdout",
     "output_type": "stream",
     "text": [
      "(array([0, 2, 4, 6], dtype=int64),)\n"
     ]
    }
   ],
   "source": [
    "import numpy as np\n",
    "\n",
    "arr = np.array([1, 2, 3, 4, 5, 6, 7, 8])\n",
    "\n",
    "x = np.where(arr%2 == 1)\n",
    "\n",
    "print(x)"
   ]
  },
  {
   "cell_type": "markdown",
   "id": "41cb57ed",
   "metadata": {},
   "source": [
    "## Recherche triée\n",
    "Il existe une méthode appelée searchsorted() qui effectue une recherche binaire dans le tableau, et renvoie l'index où la valeur spécifiée serait insérée pour maintenir l'ordre de recherche.\n",
    "\n",
    "La méthode searchsorted() est supposée être utilisée sur des tableaux triés.\n",
    "\n",
    "#### Exemple\n",
    "Trouver les index où la valeur 7 doit être insérée pour maintenir l'ordre:"
   ]
  },
  {
   "cell_type": "code",
   "execution_count": 9,
   "id": "b7c89a50",
   "metadata": {},
   "outputs": [
    {
     "name": "stdout",
     "output_type": "stream",
     "text": [
      "1\n"
     ]
    }
   ],
   "source": [
    "import numpy as np\n",
    "\n",
    "arr = np.array([6, 8, 9])\n",
    "\n",
    "x = np.searchsorted(arr, 7)\n",
    "\n",
    "print(x)"
   ]
  },
  {
   "cell_type": "markdown",
   "id": "e7b23741",
   "metadata": {},
   "source": [
    "## Recherche à partir du côté droit\n",
    "Par défaut, l'index le plus à gauche est renvoyé, mais nous pouvons donner side='right' pour renvoyer l'index le plus à droite à la place.\n",
    "\n",
    "#### Exemple\n",
    "Trouver les index où la valeur 7 doit être insérée, en commençant par la droite :"
   ]
  },
  {
   "cell_type": "code",
   "execution_count": 15,
   "id": "c0bcb980",
   "metadata": {},
   "outputs": [
    {
     "name": "stdout",
     "output_type": "stream",
     "text": [
      "3\n"
     ]
    }
   ],
   "source": [
    "import numpy as np\n",
    "\n",
    "arr = np.array([6, 7, 8, 9])\n",
    "\n",
    "x = np.searchsorted(arr, 8, side='right')\n",
    "\n",
    "print(x)"
   ]
  },
  {
   "cell_type": "markdown",
   "id": "97d2d2fd",
   "metadata": {},
   "source": [
    "## Valeurs multiples\n",
    "Pour rechercher plusieurs valeurs, utilisez un tableau avec les valeurs spécifiées.\n",
    "\n",
    "#### Exemple\n",
    "Trouvez les index où les valeurs 2, 4 et 6 doivent être insérées :"
   ]
  },
  {
   "cell_type": "code",
   "execution_count": 55,
   "id": "77b9d01f",
   "metadata": {},
   "outputs": [
    {
     "name": "stdout",
     "output_type": "stream",
     "text": [
      "[1 2 3]\n"
     ]
    }
   ],
   "source": [
    "import numpy as np\n",
    "\n",
    "arr = np.array([1, 3, 5, 7])\n",
    "\n",
    "x = np.searchsorted(arr, [2, 4, 6])\n",
    "\n",
    "print(x)"
   ]
  },
  {
   "cell_type": "markdown",
   "id": "532e972c",
   "metadata": {},
   "source": [
    "Le résultat est un tableau : [1 2 3] contenant les trois index où 2, 4, 6 seraient insérés dans le tableau original pour maintenir l'ordre."
   ]
  },
  {
   "cell_type": "markdown",
   "id": "e490893e",
   "metadata": {},
   "source": [
    "# Tri des tableaux"
   ]
  },
  {
   "cell_type": "markdown",
   "id": "00a2b8e1",
   "metadata": {},
   "source": [
    "Trier signifie mettre des éléments dans une séquence ordonnée.\n",
    "\n",
    "Une séquence ordonnée est une séquence qui a un ordre correspondant aux éléments, comme un ordre numérique ou alphabétique, ascendant ou descendant.\n",
    "\n",
    "L'objet NumPy ndarray possède une fonction appelée sort(), qui permet de trier un tableau spécifié.\n",
    "\n",
    "#### Exemple\n",
    "Trier le tableau :"
   ]
  },
  {
   "cell_type": "code",
   "execution_count": 56,
   "id": "84c970f4",
   "metadata": {},
   "outputs": [
    {
     "name": "stdout",
     "output_type": "stream",
     "text": [
      "[0 1 2 3]\n"
     ]
    }
   ],
   "source": [
    "import numpy as np\n",
    "\n",
    "arr = np.array([3, 2, 0, 1])\n",
    "\n",
    "print(np.sort(arr))"
   ]
  },
  {
   "cell_type": "markdown",
   "id": "3badda4c",
   "metadata": {},
   "source": [
    "**Remarque** : Cette méthode renvoie une copie du tableau, laissant le tableau original inchangé.\n",
    "\n",
    "Vous pouvez également trier des tableaux de chaînes de caractères, ou tout autre type de données :\n",
    "\n",
    "#### Exemple\n",
    "Triez le tableau par ordre alphabétique :"
   ]
  },
  {
   "cell_type": "code",
   "execution_count": 16,
   "id": "3c5db780",
   "metadata": {},
   "outputs": [
    {
     "name": "stdout",
     "output_type": "stream",
     "text": [
      "['banane' 'cerise' 'pomme']\n"
     ]
    }
   ],
   "source": [
    "import numpy as np\n",
    "\n",
    "arr = np.array(['banane', 'pomme', 'cerise'])\n",
    "\n",
    "print(np.sort(arr))"
   ]
  },
  {
   "cell_type": "markdown",
   "id": "39fda284",
   "metadata": {},
   "source": [
    "#### Exemple\n",
    "Trier un tableau de booléens :"
   ]
  },
  {
   "cell_type": "code",
   "execution_count": 59,
   "id": "8afbc1f2",
   "metadata": {
    "scrolled": true
   },
   "outputs": [
    {
     "name": "stdout",
     "output_type": "stream",
     "text": [
      "[False  True  True]\n"
     ]
    }
   ],
   "source": [
    "import numpy as np\n",
    "\n",
    "arr = np.array([True, False, True])\n",
    "\n",
    "print(np.sort(arr))"
   ]
  },
  {
   "cell_type": "markdown",
   "id": "fd0a79ee",
   "metadata": {},
   "source": [
    "## Tri d'un tableau 2-D\n",
    "Si vous utilisez la méthode sort() sur un tableau 2-D, les deux tableaux seront triés :\n",
    "\n",
    "#### Exemple\n",
    "Trier un tableau 2-D :"
   ]
  },
  {
   "cell_type": "code",
   "execution_count": 60,
   "id": "bab5652d",
   "metadata": {},
   "outputs": [
    {
     "name": "stdout",
     "output_type": "stream",
     "text": [
      "[[2 3 4]\n",
      " [0 1 5]]\n"
     ]
    }
   ],
   "source": [
    "import numpy as np\n",
    "\n",
    "arr = np.array([[3, 2, 4], [5, 0, 1]])\n",
    "\n",
    "print(np.sort(arr))"
   ]
  },
  {
   "cell_type": "markdown",
   "id": "9549744f",
   "metadata": {},
   "source": [
    "# Tableaux de filtrage"
   ]
  },
  {
   "cell_type": "markdown",
   "id": "2c31d4e2",
   "metadata": {},
   "source": [
    "Extraire certains éléments d'un tableau existant et créer un nouveau tableau à partir de ces éléments est appelé filtrage.\n",
    "\n",
    "Dans NumPy, on filtre un tableau en utilisant une liste d'index booléens.\n",
    "\n",
    "Une liste d'index booléens est une liste de booléens correspondant à des index dans le tableau.\n",
    "\n",
    "Si la valeur d'un index est Vrai, l'élément est contenu dans le tableau filtré, si la valeur de cet index est Faux, l'élément est exclu du tableau filtré.\n",
    "\n",
    "#### Exemple\n",
    "Créer un tableau à partir des éléments aux indices 0 et 2 :"
   ]
  },
  {
   "cell_type": "code",
   "execution_count": 61,
   "id": "879d2af2",
   "metadata": {},
   "outputs": [
    {
     "name": "stdout",
     "output_type": "stream",
     "text": [
      "[41 43]\n"
     ]
    }
   ],
   "source": [
    "import numpy as np\n",
    "\n",
    "arr = np.array([41, 42, 43, 44])\n",
    "\n",
    "x = [True, False, True, False]\n",
    "\n",
    "newarr = arr[x]\n",
    "\n",
    "print(newarr)"
   ]
  },
  {
   "cell_type": "markdown",
   "id": "78059d26",
   "metadata": {},
   "source": [
    "## Création d'un tableau de filtres\n",
    "Dans l'exemple ci-dessus, nous avons codé en dur les valeurs True et False, mais l'usage courant est de créer un tableau de filtres basé sur des conditions.\n",
    "\n",
    "#### Exemple\n",
    "Créez un tableau de filtres qui ne retournera que les valeurs supérieures à 42 :"
   ]
  },
  {
   "cell_type": "code",
   "execution_count": 62,
   "id": "a34a0daf",
   "metadata": {},
   "outputs": [
    {
     "name": "stdout",
     "output_type": "stream",
     "text": [
      "[False, False, True, True]\n",
      "[43 44]\n"
     ]
    }
   ],
   "source": [
    "import numpy as np\n",
    "\n",
    "arr = np.array([41, 42, 43, 44])\n",
    "\n",
    "# Créer une liste vide\n",
    "filter_arr = []\n",
    "\n",
    "# parcourir chaque élément du tableau arr\n",
    "for element in arr:\n",
    "  # si l'élément est supérieur à 42, donnez-lui la valeur True, sinon False :\n",
    "    if element > 42:\n",
    "        filter_arr.append(True)\n",
    "    else:\n",
    "        filter_arr.append(False)\n",
    "\n",
    "newarr = arr[filter_arr]\n",
    "\n",
    "print(filter_arr)\n",
    "print(newarr)"
   ]
  },
  {
   "cell_type": "markdown",
   "id": "2870352f",
   "metadata": {},
   "source": [
    "## Créer un filtre directement à partir d'un tableau\n",
    "L'exemple ci-dessus est une tâche assez courante dans NumPy et NumPy fournit une façon agréable de l'aborder.\n",
    "\n",
    "Nous pouvons substituer directement le tableau à la place de la variable itérable dans notre condition et cela fonctionnera exactement comme nous l'attendons.\n",
    "\n",
    "#### Exemple\n",
    "Créez un tableau de filtres qui ne retournera que les valeurs supérieures à 42 :"
   ]
  },
  {
   "cell_type": "code",
   "execution_count": 1,
   "id": "4d01617c",
   "metadata": {},
   "outputs": [
    {
     "name": "stdout",
     "output_type": "stream",
     "text": [
      "[False False  True  True]\n",
      "[43 44]\n"
     ]
    }
   ],
   "source": [
    "import numpy as np\n",
    "\n",
    "arr = np.array([41, 42, 43, 44])\n",
    "\n",
    "filter_arr² = arr > 42\n",
    "\n",
    "newarr = arr[filter_arr]\n",
    "\n",
    "print(filter_arr)\n",
    "print(newarr)"
   ]
  },
  {
   "cell_type": "code",
   "execution_count": null,
   "id": "7a2c063f",
   "metadata": {},
   "outputs": [],
   "source": []
  }
 ],
 "metadata": {
  "kernelspec": {
   "display_name": "Python 3 (ipykernel)",
   "language": "python",
   "name": "python3"
  },
  "language_info": {
   "codemirror_mode": {
    "name": "ipython",
    "version": 3
   },
   "file_extension": ".py",
   "mimetype": "text/x-python",
   "name": "python",
   "nbconvert_exporter": "python",
   "pygments_lexer": "ipython3",
   "version": "3.9.13"
  }
 },
 "nbformat": 4,
 "nbformat_minor": 5
}
